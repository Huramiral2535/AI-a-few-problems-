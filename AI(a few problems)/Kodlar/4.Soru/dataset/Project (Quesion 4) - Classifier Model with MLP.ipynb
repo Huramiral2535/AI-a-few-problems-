{
 "cells": [
  {
   "cell_type": "markdown",
   "metadata": {},
   "source": [
    "## Machine Learning with Python (Classifier Model with MLP)"
   ]
  },
  {
   "cell_type": "markdown",
   "metadata": {},
   "source": [
    "* ### Required Libraries"
   ]
  },
  {
   "cell_type": "code",
   "execution_count": 118,
   "metadata": {},
   "outputs": [],
   "source": [
    "import pandas as pd\n",
    "import numpy as np\n",
    "import matplotlib.pyplot as plt\n",
    "\n",
    "np.random.seed(42)\n",
    "\n",
    "from sklearn.model_selection import train_test_split\n",
    "from sklearn.model_selection import cross_val_score\n",
    "from sklearn.model_selection import KFold\n",
    "from sklearn.metrics import classification_report\n",
    "\n",
    "import keras\n",
    "from keras.models import Model, Sequential\n",
    "from keras.layers import *\n",
    "from keras import optimizers\n",
    "from keras.wrappers.scikit_learn import KerasClassifier"
   ]
  },
  {
   "cell_type": "markdown",
   "metadata": {},
   "source": [
    "## Data Preprocessing"
   ]
  },
  {
   "cell_type": "markdown",
   "metadata": {},
   "source": [
    "* ### Importing Dataset"
   ]
  },
  {
   "cell_type": "code",
   "execution_count": 2,
   "metadata": {},
   "outputs": [],
   "source": [
    "#Training Dataset\n",
    "dataset_train = pd.read_csv('dataset/optdigits.tra', header=None)\n",
    "\n",
    "dataset_feautes = dataset_train.iloc[:,:-1].values\n",
    "dataset_labels = dataset_train.iloc[:,-1].values"
   ]
  },
  {
   "cell_type": "code",
   "execution_count": 3,
   "metadata": {},
   "outputs": [
    {
     "data": {
      "text/html": [
       "<div>\n",
       "<style scoped>\n",
       "    .dataframe tbody tr th:only-of-type {\n",
       "        vertical-align: middle;\n",
       "    }\n",
       "\n",
       "    .dataframe tbody tr th {\n",
       "        vertical-align: top;\n",
       "    }\n",
       "\n",
       "    .dataframe thead th {\n",
       "        text-align: right;\n",
       "    }\n",
       "</style>\n",
       "<table border=\"1\" class=\"dataframe\">\n",
       "  <thead>\n",
       "    <tr style=\"text-align: right;\">\n",
       "      <th></th>\n",
       "      <th>0</th>\n",
       "      <th>1</th>\n",
       "      <th>2</th>\n",
       "      <th>3</th>\n",
       "      <th>4</th>\n",
       "      <th>5</th>\n",
       "      <th>6</th>\n",
       "      <th>7</th>\n",
       "      <th>8</th>\n",
       "      <th>9</th>\n",
       "      <th>...</th>\n",
       "      <th>55</th>\n",
       "      <th>56</th>\n",
       "      <th>57</th>\n",
       "      <th>58</th>\n",
       "      <th>59</th>\n",
       "      <th>60</th>\n",
       "      <th>61</th>\n",
       "      <th>62</th>\n",
       "      <th>63</th>\n",
       "      <th>64</th>\n",
       "    </tr>\n",
       "  </thead>\n",
       "  <tbody>\n",
       "    <tr>\n",
       "      <th>0</th>\n",
       "      <td>0</td>\n",
       "      <td>1</td>\n",
       "      <td>6</td>\n",
       "      <td>15</td>\n",
       "      <td>12</td>\n",
       "      <td>1</td>\n",
       "      <td>0</td>\n",
       "      <td>0</td>\n",
       "      <td>0</td>\n",
       "      <td>7</td>\n",
       "      <td>...</td>\n",
       "      <td>0</td>\n",
       "      <td>0</td>\n",
       "      <td>0</td>\n",
       "      <td>6</td>\n",
       "      <td>14</td>\n",
       "      <td>7</td>\n",
       "      <td>1</td>\n",
       "      <td>0</td>\n",
       "      <td>0</td>\n",
       "      <td>0</td>\n",
       "    </tr>\n",
       "    <tr>\n",
       "      <th>1</th>\n",
       "      <td>0</td>\n",
       "      <td>0</td>\n",
       "      <td>10</td>\n",
       "      <td>16</td>\n",
       "      <td>6</td>\n",
       "      <td>0</td>\n",
       "      <td>0</td>\n",
       "      <td>0</td>\n",
       "      <td>0</td>\n",
       "      <td>7</td>\n",
       "      <td>...</td>\n",
       "      <td>0</td>\n",
       "      <td>0</td>\n",
       "      <td>0</td>\n",
       "      <td>10</td>\n",
       "      <td>16</td>\n",
       "      <td>15</td>\n",
       "      <td>3</td>\n",
       "      <td>0</td>\n",
       "      <td>0</td>\n",
       "      <td>0</td>\n",
       "    </tr>\n",
       "    <tr>\n",
       "      <th>2</th>\n",
       "      <td>0</td>\n",
       "      <td>0</td>\n",
       "      <td>8</td>\n",
       "      <td>15</td>\n",
       "      <td>16</td>\n",
       "      <td>13</td>\n",
       "      <td>0</td>\n",
       "      <td>0</td>\n",
       "      <td>0</td>\n",
       "      <td>1</td>\n",
       "      <td>...</td>\n",
       "      <td>0</td>\n",
       "      <td>0</td>\n",
       "      <td>0</td>\n",
       "      <td>9</td>\n",
       "      <td>14</td>\n",
       "      <td>0</td>\n",
       "      <td>0</td>\n",
       "      <td>0</td>\n",
       "      <td>0</td>\n",
       "      <td>7</td>\n",
       "    </tr>\n",
       "    <tr>\n",
       "      <th>3</th>\n",
       "      <td>0</td>\n",
       "      <td>0</td>\n",
       "      <td>0</td>\n",
       "      <td>3</td>\n",
       "      <td>11</td>\n",
       "      <td>16</td>\n",
       "      <td>0</td>\n",
       "      <td>0</td>\n",
       "      <td>0</td>\n",
       "      <td>0</td>\n",
       "      <td>...</td>\n",
       "      <td>0</td>\n",
       "      <td>0</td>\n",
       "      <td>0</td>\n",
       "      <td>0</td>\n",
       "      <td>1</td>\n",
       "      <td>15</td>\n",
       "      <td>2</td>\n",
       "      <td>0</td>\n",
       "      <td>0</td>\n",
       "      <td>4</td>\n",
       "    </tr>\n",
       "    <tr>\n",
       "      <th>4</th>\n",
       "      <td>0</td>\n",
       "      <td>0</td>\n",
       "      <td>5</td>\n",
       "      <td>14</td>\n",
       "      <td>4</td>\n",
       "      <td>0</td>\n",
       "      <td>0</td>\n",
       "      <td>0</td>\n",
       "      <td>0</td>\n",
       "      <td>0</td>\n",
       "      <td>...</td>\n",
       "      <td>0</td>\n",
       "      <td>0</td>\n",
       "      <td>0</td>\n",
       "      <td>4</td>\n",
       "      <td>12</td>\n",
       "      <td>14</td>\n",
       "      <td>7</td>\n",
       "      <td>0</td>\n",
       "      <td>0</td>\n",
       "      <td>6</td>\n",
       "    </tr>\n",
       "  </tbody>\n",
       "</table>\n",
       "<p>5 rows × 65 columns</p>\n",
       "</div>"
      ],
      "text/plain": [
       "   0   1   2   3   4   5   6   7   8   9   ...  55  56  57  58  59  60  61  \\\n",
       "0   0   1   6  15  12   1   0   0   0   7  ...   0   0   0   6  14   7   1   \n",
       "1   0   0  10  16   6   0   0   0   0   7  ...   0   0   0  10  16  15   3   \n",
       "2   0   0   8  15  16  13   0   0   0   1  ...   0   0   0   9  14   0   0   \n",
       "3   0   0   0   3  11  16   0   0   0   0  ...   0   0   0   0   1  15   2   \n",
       "4   0   0   5  14   4   0   0   0   0   0  ...   0   0   0   4  12  14   7   \n",
       "\n",
       "   62  63  64  \n",
       "0   0   0   0  \n",
       "1   0   0   0  \n",
       "2   0   0   7  \n",
       "3   0   0   4  \n",
       "4   0   0   6  \n",
       "\n",
       "[5 rows x 65 columns]"
      ]
     },
     "execution_count": 3,
     "metadata": {},
     "output_type": "execute_result"
    }
   ],
   "source": [
    "dataset_train.head()"
   ]
  },
  {
   "cell_type": "code",
   "execution_count": 4,
   "metadata": {},
   "outputs": [
    {
     "data": {
      "text/plain": [
       "array([[ 0,  1,  6, ...,  1,  0,  0],\n",
       "       [ 0,  0, 10, ...,  3,  0,  0],\n",
       "       [ 0,  0,  8, ...,  0,  0,  0],\n",
       "       ...,\n",
       "       [ 0,  0,  3, ...,  9,  0,  0],\n",
       "       [ 0,  0,  6, ..., 16,  5,  0],\n",
       "       [ 0,  0,  2, ...,  0,  0,  0]], dtype=int64)"
      ]
     },
     "execution_count": 4,
     "metadata": {},
     "output_type": "execute_result"
    }
   ],
   "source": [
    "dataset_feautes"
   ]
  },
  {
   "cell_type": "code",
   "execution_count": 5,
   "metadata": {},
   "outputs": [
    {
     "data": {
      "text/plain": [
       "(3823, 64)"
      ]
     },
     "execution_count": 5,
     "metadata": {},
     "output_type": "execute_result"
    }
   ],
   "source": [
    "dataset_feautes.shape"
   ]
  },
  {
   "cell_type": "code",
   "execution_count": 6,
   "metadata": {},
   "outputs": [
    {
     "data": {
      "text/plain": [
       "array([0, 0, 7, ..., 6, 6, 7], dtype=int64)"
      ]
     },
     "execution_count": 6,
     "metadata": {},
     "output_type": "execute_result"
    }
   ],
   "source": [
    "dataset_labels"
   ]
  },
  {
   "cell_type": "code",
   "execution_count": 7,
   "metadata": {},
   "outputs": [
    {
     "data": {
      "text/plain": [
       "(3823,)"
      ]
     },
     "execution_count": 7,
     "metadata": {},
     "output_type": "execute_result"
    }
   ],
   "source": [
    "dataset_labels.shape"
   ]
  },
  {
   "cell_type": "code",
   "execution_count": 8,
   "metadata": {},
   "outputs": [],
   "source": [
    "#Test Dataset\n",
    "dataset_test = pd.read_csv('dataset/optdigits.tes', header=None)\n",
    "\n",
    "dataset_feautes_test = dataset_test.iloc[:,:-1].values\n",
    "dataset_labels_test = dataset_test.iloc[:,-1].values"
   ]
  },
  {
   "cell_type": "code",
   "execution_count": 9,
   "metadata": {},
   "outputs": [
    {
     "data": {
      "text/html": [
       "<div>\n",
       "<style scoped>\n",
       "    .dataframe tbody tr th:only-of-type {\n",
       "        vertical-align: middle;\n",
       "    }\n",
       "\n",
       "    .dataframe tbody tr th {\n",
       "        vertical-align: top;\n",
       "    }\n",
       "\n",
       "    .dataframe thead th {\n",
       "        text-align: right;\n",
       "    }\n",
       "</style>\n",
       "<table border=\"1\" class=\"dataframe\">\n",
       "  <thead>\n",
       "    <tr style=\"text-align: right;\">\n",
       "      <th></th>\n",
       "      <th>0</th>\n",
       "      <th>1</th>\n",
       "      <th>2</th>\n",
       "      <th>3</th>\n",
       "      <th>4</th>\n",
       "      <th>5</th>\n",
       "      <th>6</th>\n",
       "      <th>7</th>\n",
       "      <th>8</th>\n",
       "      <th>9</th>\n",
       "      <th>...</th>\n",
       "      <th>55</th>\n",
       "      <th>56</th>\n",
       "      <th>57</th>\n",
       "      <th>58</th>\n",
       "      <th>59</th>\n",
       "      <th>60</th>\n",
       "      <th>61</th>\n",
       "      <th>62</th>\n",
       "      <th>63</th>\n",
       "      <th>64</th>\n",
       "    </tr>\n",
       "  </thead>\n",
       "  <tbody>\n",
       "    <tr>\n",
       "      <th>0</th>\n",
       "      <td>0</td>\n",
       "      <td>0</td>\n",
       "      <td>5</td>\n",
       "      <td>13</td>\n",
       "      <td>9</td>\n",
       "      <td>1</td>\n",
       "      <td>0</td>\n",
       "      <td>0</td>\n",
       "      <td>0</td>\n",
       "      <td>0</td>\n",
       "      <td>...</td>\n",
       "      <td>0</td>\n",
       "      <td>0</td>\n",
       "      <td>0</td>\n",
       "      <td>6</td>\n",
       "      <td>13</td>\n",
       "      <td>10</td>\n",
       "      <td>0</td>\n",
       "      <td>0</td>\n",
       "      <td>0</td>\n",
       "      <td>0</td>\n",
       "    </tr>\n",
       "    <tr>\n",
       "      <th>1</th>\n",
       "      <td>0</td>\n",
       "      <td>0</td>\n",
       "      <td>0</td>\n",
       "      <td>12</td>\n",
       "      <td>13</td>\n",
       "      <td>5</td>\n",
       "      <td>0</td>\n",
       "      <td>0</td>\n",
       "      <td>0</td>\n",
       "      <td>0</td>\n",
       "      <td>...</td>\n",
       "      <td>0</td>\n",
       "      <td>0</td>\n",
       "      <td>0</td>\n",
       "      <td>0</td>\n",
       "      <td>11</td>\n",
       "      <td>16</td>\n",
       "      <td>10</td>\n",
       "      <td>0</td>\n",
       "      <td>0</td>\n",
       "      <td>1</td>\n",
       "    </tr>\n",
       "    <tr>\n",
       "      <th>2</th>\n",
       "      <td>0</td>\n",
       "      <td>0</td>\n",
       "      <td>0</td>\n",
       "      <td>4</td>\n",
       "      <td>15</td>\n",
       "      <td>12</td>\n",
       "      <td>0</td>\n",
       "      <td>0</td>\n",
       "      <td>0</td>\n",
       "      <td>0</td>\n",
       "      <td>...</td>\n",
       "      <td>0</td>\n",
       "      <td>0</td>\n",
       "      <td>0</td>\n",
       "      <td>0</td>\n",
       "      <td>3</td>\n",
       "      <td>11</td>\n",
       "      <td>16</td>\n",
       "      <td>9</td>\n",
       "      <td>0</td>\n",
       "      <td>2</td>\n",
       "    </tr>\n",
       "    <tr>\n",
       "      <th>3</th>\n",
       "      <td>0</td>\n",
       "      <td>0</td>\n",
       "      <td>7</td>\n",
       "      <td>15</td>\n",
       "      <td>13</td>\n",
       "      <td>1</td>\n",
       "      <td>0</td>\n",
       "      <td>0</td>\n",
       "      <td>0</td>\n",
       "      <td>8</td>\n",
       "      <td>...</td>\n",
       "      <td>0</td>\n",
       "      <td>0</td>\n",
       "      <td>0</td>\n",
       "      <td>7</td>\n",
       "      <td>13</td>\n",
       "      <td>13</td>\n",
       "      <td>9</td>\n",
       "      <td>0</td>\n",
       "      <td>0</td>\n",
       "      <td>3</td>\n",
       "    </tr>\n",
       "    <tr>\n",
       "      <th>4</th>\n",
       "      <td>0</td>\n",
       "      <td>0</td>\n",
       "      <td>0</td>\n",
       "      <td>1</td>\n",
       "      <td>11</td>\n",
       "      <td>0</td>\n",
       "      <td>0</td>\n",
       "      <td>0</td>\n",
       "      <td>0</td>\n",
       "      <td>0</td>\n",
       "      <td>...</td>\n",
       "      <td>0</td>\n",
       "      <td>0</td>\n",
       "      <td>0</td>\n",
       "      <td>0</td>\n",
       "      <td>2</td>\n",
       "      <td>16</td>\n",
       "      <td>4</td>\n",
       "      <td>0</td>\n",
       "      <td>0</td>\n",
       "      <td>4</td>\n",
       "    </tr>\n",
       "    <tr>\n",
       "      <th>...</th>\n",
       "      <td>...</td>\n",
       "      <td>...</td>\n",
       "      <td>...</td>\n",
       "      <td>...</td>\n",
       "      <td>...</td>\n",
       "      <td>...</td>\n",
       "      <td>...</td>\n",
       "      <td>...</td>\n",
       "      <td>...</td>\n",
       "      <td>...</td>\n",
       "      <td>...</td>\n",
       "      <td>...</td>\n",
       "      <td>...</td>\n",
       "      <td>...</td>\n",
       "      <td>...</td>\n",
       "      <td>...</td>\n",
       "      <td>...</td>\n",
       "      <td>...</td>\n",
       "      <td>...</td>\n",
       "      <td>...</td>\n",
       "      <td>...</td>\n",
       "    </tr>\n",
       "    <tr>\n",
       "      <th>1792</th>\n",
       "      <td>0</td>\n",
       "      <td>0</td>\n",
       "      <td>4</td>\n",
       "      <td>10</td>\n",
       "      <td>13</td>\n",
       "      <td>6</td>\n",
       "      <td>0</td>\n",
       "      <td>0</td>\n",
       "      <td>0</td>\n",
       "      <td>1</td>\n",
       "      <td>...</td>\n",
       "      <td>0</td>\n",
       "      <td>0</td>\n",
       "      <td>0</td>\n",
       "      <td>2</td>\n",
       "      <td>14</td>\n",
       "      <td>15</td>\n",
       "      <td>9</td>\n",
       "      <td>0</td>\n",
       "      <td>0</td>\n",
       "      <td>9</td>\n",
       "    </tr>\n",
       "    <tr>\n",
       "      <th>1793</th>\n",
       "      <td>0</td>\n",
       "      <td>0</td>\n",
       "      <td>6</td>\n",
       "      <td>16</td>\n",
       "      <td>13</td>\n",
       "      <td>11</td>\n",
       "      <td>1</td>\n",
       "      <td>0</td>\n",
       "      <td>0</td>\n",
       "      <td>0</td>\n",
       "      <td>...</td>\n",
       "      <td>0</td>\n",
       "      <td>0</td>\n",
       "      <td>0</td>\n",
       "      <td>6</td>\n",
       "      <td>16</td>\n",
       "      <td>14</td>\n",
       "      <td>6</td>\n",
       "      <td>0</td>\n",
       "      <td>0</td>\n",
       "      <td>0</td>\n",
       "    </tr>\n",
       "    <tr>\n",
       "      <th>1794</th>\n",
       "      <td>0</td>\n",
       "      <td>0</td>\n",
       "      <td>1</td>\n",
       "      <td>11</td>\n",
       "      <td>15</td>\n",
       "      <td>1</td>\n",
       "      <td>0</td>\n",
       "      <td>0</td>\n",
       "      <td>0</td>\n",
       "      <td>0</td>\n",
       "      <td>...</td>\n",
       "      <td>0</td>\n",
       "      <td>0</td>\n",
       "      <td>0</td>\n",
       "      <td>2</td>\n",
       "      <td>9</td>\n",
       "      <td>13</td>\n",
       "      <td>6</td>\n",
       "      <td>0</td>\n",
       "      <td>0</td>\n",
       "      <td>8</td>\n",
       "    </tr>\n",
       "    <tr>\n",
       "      <th>1795</th>\n",
       "      <td>0</td>\n",
       "      <td>0</td>\n",
       "      <td>2</td>\n",
       "      <td>10</td>\n",
       "      <td>7</td>\n",
       "      <td>0</td>\n",
       "      <td>0</td>\n",
       "      <td>0</td>\n",
       "      <td>0</td>\n",
       "      <td>0</td>\n",
       "      <td>...</td>\n",
       "      <td>0</td>\n",
       "      <td>0</td>\n",
       "      <td>0</td>\n",
       "      <td>5</td>\n",
       "      <td>12</td>\n",
       "      <td>16</td>\n",
       "      <td>12</td>\n",
       "      <td>0</td>\n",
       "      <td>0</td>\n",
       "      <td>9</td>\n",
       "    </tr>\n",
       "    <tr>\n",
       "      <th>1796</th>\n",
       "      <td>0</td>\n",
       "      <td>0</td>\n",
       "      <td>10</td>\n",
       "      <td>14</td>\n",
       "      <td>8</td>\n",
       "      <td>1</td>\n",
       "      <td>0</td>\n",
       "      <td>0</td>\n",
       "      <td>0</td>\n",
       "      <td>2</td>\n",
       "      <td>...</td>\n",
       "      <td>0</td>\n",
       "      <td>0</td>\n",
       "      <td>1</td>\n",
       "      <td>8</td>\n",
       "      <td>12</td>\n",
       "      <td>14</td>\n",
       "      <td>12</td>\n",
       "      <td>1</td>\n",
       "      <td>0</td>\n",
       "      <td>8</td>\n",
       "    </tr>\n",
       "  </tbody>\n",
       "</table>\n",
       "<p>1797 rows × 65 columns</p>\n",
       "</div>"
      ],
      "text/plain": [
       "      0   1   2   3   4   5   6   7   8   9   ...  55  56  57  58  59  60  61  \\\n",
       "0      0   0   5  13   9   1   0   0   0   0  ...   0   0   0   6  13  10   0   \n",
       "1      0   0   0  12  13   5   0   0   0   0  ...   0   0   0   0  11  16  10   \n",
       "2      0   0   0   4  15  12   0   0   0   0  ...   0   0   0   0   3  11  16   \n",
       "3      0   0   7  15  13   1   0   0   0   8  ...   0   0   0   7  13  13   9   \n",
       "4      0   0   0   1  11   0   0   0   0   0  ...   0   0   0   0   2  16   4   \n",
       "...   ..  ..  ..  ..  ..  ..  ..  ..  ..  ..  ...  ..  ..  ..  ..  ..  ..  ..   \n",
       "1792   0   0   4  10  13   6   0   0   0   1  ...   0   0   0   2  14  15   9   \n",
       "1793   0   0   6  16  13  11   1   0   0   0  ...   0   0   0   6  16  14   6   \n",
       "1794   0   0   1  11  15   1   0   0   0   0  ...   0   0   0   2   9  13   6   \n",
       "1795   0   0   2  10   7   0   0   0   0   0  ...   0   0   0   5  12  16  12   \n",
       "1796   0   0  10  14   8   1   0   0   0   2  ...   0   0   1   8  12  14  12   \n",
       "\n",
       "      62  63  64  \n",
       "0      0   0   0  \n",
       "1      0   0   1  \n",
       "2      9   0   2  \n",
       "3      0   0   3  \n",
       "4      0   0   4  \n",
       "...   ..  ..  ..  \n",
       "1792   0   0   9  \n",
       "1793   0   0   0  \n",
       "1794   0   0   8  \n",
       "1795   0   0   9  \n",
       "1796   1   0   8  \n",
       "\n",
       "[1797 rows x 65 columns]"
      ]
     },
     "execution_count": 9,
     "metadata": {},
     "output_type": "execute_result"
    }
   ],
   "source": [
    "dataset_test"
   ]
  },
  {
   "cell_type": "code",
   "execution_count": 10,
   "metadata": {},
   "outputs": [
    {
     "data": {
      "text/plain": [
       "array([[ 0,  0,  5, ...,  0,  0,  0],\n",
       "       [ 0,  0,  0, ..., 10,  0,  0],\n",
       "       [ 0,  0,  0, ..., 16,  9,  0],\n",
       "       ...,\n",
       "       [ 0,  0,  1, ...,  6,  0,  0],\n",
       "       [ 0,  0,  2, ..., 12,  0,  0],\n",
       "       [ 0,  0, 10, ..., 12,  1,  0]], dtype=int64)"
      ]
     },
     "execution_count": 10,
     "metadata": {},
     "output_type": "execute_result"
    }
   ],
   "source": [
    "dataset_feautes_test"
   ]
  },
  {
   "cell_type": "code",
   "execution_count": 11,
   "metadata": {},
   "outputs": [
    {
     "data": {
      "text/plain": [
       "array([0, 1, 2, ..., 8, 9, 8], dtype=int64)"
      ]
     },
     "execution_count": 11,
     "metadata": {},
     "output_type": "execute_result"
    }
   ],
   "source": [
    "dataset_labels_test"
   ]
  },
  {
   "cell_type": "code",
   "execution_count": 12,
   "metadata": {},
   "outputs": [
    {
     "data": {
      "text/plain": [
       "(1797,)"
      ]
     },
     "execution_count": 12,
     "metadata": {},
     "output_type": "execute_result"
    }
   ],
   "source": [
    "dataset_labels_test.shape"
   ]
  },
  {
   "cell_type": "markdown",
   "metadata": {},
   "source": [
    "* ### Splitting the Training Set into Training & Validation Set"
   ]
  },
  {
   "cell_type": "code",
   "execution_count": 13,
   "metadata": {},
   "outputs": [],
   "source": [
    "X_train, X_val, y_train, y_val = train_test_split(dataset_feautes, dataset_labels, \n",
    "                                                  test_size = 0.2,\n",
    "                                                  random_state = 42)"
   ]
  },
  {
   "cell_type": "code",
   "execution_count": 14,
   "metadata": {},
   "outputs": [
    {
     "name": "stdout",
     "output_type": "stream",
     "text": [
      "(3058, 64) (765, 64)\n"
     ]
    }
   ],
   "source": [
    "print(X_train.shape, X_val.shape)"
   ]
  },
  {
   "cell_type": "code",
   "execution_count": 15,
   "metadata": {},
   "outputs": [],
   "source": [
    "X_test = dataset_feautes_test.reshape(1797, 64)"
   ]
  },
  {
   "cell_type": "code",
   "execution_count": 16,
   "metadata": {},
   "outputs": [
    {
     "data": {
      "text/plain": [
       "(1797, 64)"
      ]
     },
     "execution_count": 16,
     "metadata": {},
     "output_type": "execute_result"
    }
   ],
   "source": [
    "X_test.shape"
   ]
  },
  {
   "cell_type": "markdown",
   "metadata": {},
   "source": [
    "* ### Normalization"
   ]
  },
  {
   "cell_type": "code",
   "execution_count": 17,
   "metadata": {},
   "outputs": [
    {
     "data": {
      "text/plain": [
       "array([ 0,  1, 10, 13, 10,  1,  0,  0,  0,  6, 14,  4, 10, 15,  2,  0,  0,\n",
       "        8, 12,  0,  2, 16,  3,  0,  0,  2, 14,  8, 10, 16,  4,  0,  0,  0,\n",
       "        2,  4,  4, 13,  6,  0,  0,  0,  0,  0,  0, 12,  8,  0,  0,  6, 12,\n",
       "        2,  6, 16,  4,  0,  0,  1, 10, 16, 13,  5,  0,  0], dtype=int64)"
      ]
     },
     "execution_count": 17,
     "metadata": {},
     "output_type": "execute_result"
    }
   ],
   "source": [
    "X_train[1]"
   ]
  },
  {
   "cell_type": "code",
   "execution_count": 18,
   "metadata": {},
   "outputs": [
    {
     "name": "stdout",
     "output_type": "stream",
     "text": [
      "(0, 16)\n"
     ]
    }
   ],
   "source": [
    "print((min(X_train[1]), max(X_train[1])))"
   ]
  },
  {
   "cell_type": "code",
   "execution_count": 19,
   "metadata": {},
   "outputs": [
    {
     "data": {
      "text/plain": [
       "array([[ 0,  0, 13, ...,  0,  0,  0],\n",
       "       [ 0,  1, 10, ...,  5,  0,  0],\n",
       "       [ 0,  0,  3, ..., 14, 10,  0],\n",
       "       ...,\n",
       "       [ 0,  0, 10, ...,  0,  0,  0],\n",
       "       [ 0,  0,  0, ...,  7,  0,  0],\n",
       "       [ 0,  0,  7, ..., 12,  2,  0]], dtype=int64)"
      ]
     },
     "execution_count": 19,
     "metadata": {},
     "output_type": "execute_result"
    }
   ],
   "source": [
    "X_train"
   ]
  },
  {
   "cell_type": "code",
   "execution_count": 20,
   "metadata": {},
   "outputs": [],
   "source": [
    "# Feature Normalization \n",
    "X_train = X_train.astype('float32') \n",
    "X_val= X_val.astype('float32') \n",
    "X_test = X_test.astype('float32')\n",
    "\n",
    "X_train /= 16 \n",
    "X_val   /= 16 \n",
    "X_test  /= 16"
   ]
  },
  {
   "cell_type": "code",
   "execution_count": 21,
   "metadata": {},
   "outputs": [
    {
     "data": {
      "text/plain": [
       "array([[0.    , 0.    , 0.8125, ..., 0.    , 0.    , 0.    ],\n",
       "       [0.    , 0.0625, 0.625 , ..., 0.3125, 0.    , 0.    ],\n",
       "       [0.    , 0.    , 0.1875, ..., 0.875 , 0.625 , 0.    ],\n",
       "       ...,\n",
       "       [0.    , 0.    , 0.625 , ..., 0.    , 0.    , 0.    ],\n",
       "       [0.    , 0.    , 0.    , ..., 0.4375, 0.    , 0.    ],\n",
       "       [0.    , 0.    , 0.4375, ..., 0.75  , 0.125 , 0.    ]],\n",
       "      dtype=float32)"
      ]
     },
     "execution_count": 21,
     "metadata": {},
     "output_type": "execute_result"
    }
   ],
   "source": [
    "X_train"
   ]
  },
  {
   "cell_type": "code",
   "execution_count": 22,
   "metadata": {},
   "outputs": [
    {
     "data": {
      "text/plain": [
       "array([[0.    , 0.    , 0.4375, ..., 0.9375, 0.1875, 0.    ],\n",
       "       [0.    , 0.    , 0.    , ..., 1.    , 0.25  , 0.    ],\n",
       "       [0.    , 0.0625, 0.5   , ..., 0.25  , 0.    , 0.    ],\n",
       "       ...,\n",
       "       [0.    , 0.    , 0.    , ..., 0.    , 0.    , 0.    ],\n",
       "       [0.    , 0.    , 0.    , ..., 0.75  , 0.    , 0.    ],\n",
       "       [0.    , 0.    , 0.    , ..., 0.375 , 0.    , 0.    ]],\n",
       "      dtype=float32)"
      ]
     },
     "execution_count": 22,
     "metadata": {},
     "output_type": "execute_result"
    }
   ],
   "source": [
    "X_val"
   ]
  },
  {
   "cell_type": "code",
   "execution_count": 23,
   "metadata": {},
   "outputs": [
    {
     "data": {
      "text/plain": [
       "array([[0.    , 0.    , 0.3125, ..., 0.    , 0.    , 0.    ],\n",
       "       [0.    , 0.    , 0.    , ..., 0.625 , 0.    , 0.    ],\n",
       "       [0.    , 0.    , 0.    , ..., 1.    , 0.5625, 0.    ],\n",
       "       ...,\n",
       "       [0.    , 0.    , 0.0625, ..., 0.375 , 0.    , 0.    ],\n",
       "       [0.    , 0.    , 0.125 , ..., 0.75  , 0.    , 0.    ],\n",
       "       [0.    , 0.    , 0.625 , ..., 0.75  , 0.0625, 0.    ]],\n",
       "      dtype=float32)"
      ]
     },
     "execution_count": 23,
     "metadata": {},
     "output_type": "execute_result"
    }
   ],
   "source": [
    "X_test"
   ]
  },
  {
   "cell_type": "markdown",
   "metadata": {},
   "source": [
    "* ### One-Hot Encoding"
   ]
  },
  {
   "cell_type": "code",
   "execution_count": 24,
   "metadata": {},
   "outputs": [
    {
     "name": "stdout",
     "output_type": "stream",
     "text": [
      "8\n",
      "3\n",
      "1\n"
     ]
    }
   ],
   "source": [
    "print(y_train[0])\n",
    "print(y_train[34]) \n",
    "print(y_train[1075])"
   ]
  },
  {
   "cell_type": "code",
   "execution_count": 25,
   "metadata": {},
   "outputs": [],
   "source": [
    "#One-Hot Encoding with Keras\n",
    "y_train = keras.utils.to_categorical(y_train)\n",
    "y_val = keras.utils.to_categorical(y_val)"
   ]
  },
  {
   "cell_type": "code",
   "execution_count": 26,
   "metadata": {},
   "outputs": [
    {
     "name": "stdout",
     "output_type": "stream",
     "text": [
      "[0. 0. 0. 0. 0. 0. 0. 0. 1. 0.]\n",
      "[0. 0. 0. 1. 0. 0. 0. 0. 0. 0.]\n",
      "[0. 1. 0. 0. 0. 0. 0. 0. 0. 0.]\n"
     ]
    }
   ],
   "source": [
    "print(y_train[0])\n",
    "print(y_train[34]) \n",
    "print(y_train[1075])"
   ]
  },
  {
   "cell_type": "markdown",
   "metadata": {},
   "source": [
    "## Model Training"
   ]
  },
  {
   "cell_type": "markdown",
   "metadata": {},
   "source": [
    "* ### Multilayer Perceptron (MLP)"
   ]
  },
  {
   "cell_type": "markdown",
   "metadata": {},
   "source": [
    " ## <u>Model 1</u>"
   ]
  },
  {
   "cell_type": "code",
   "execution_count": 27,
   "metadata": {},
   "outputs": [],
   "source": [
    "num__of_digits = 10\n",
    "\n",
    "model = Sequential()\n",
    "model.add(Dense(200, input_dim=64, activation='relu', name='Hidden_Layer_1'))\n",
    "model.add(Dense(100, activation='relu', name='Hidden_Layer_2'))\n",
    "model.add(Dense(100, activation='relu', name='Hidden_Layer_3'))\n",
    "model.add(Dense(200, activation='relu', name='Hidden_Layer_4'))\n",
    "model.add(Dense(num__of_digits, activation='softmax', name='Output_Layer'))\n",
    "\n",
    "# Input Layer - 4 Hidden Layer - Output Layer"
   ]
  },
  {
   "cell_type": "code",
   "execution_count": 28,
   "metadata": {},
   "outputs": [
    {
     "name": "stdout",
     "output_type": "stream",
     "text": [
      "MODEL SUMMARY\n",
      "\n",
      "Model: \"sequential\"\n",
      "_________________________________________________________________\n",
      "Layer (type)                 Output Shape              Param #   \n",
      "=================================================================\n",
      "Hidden_Layer_1 (Dense)       (None, 200)               13000     \n",
      "_________________________________________________________________\n",
      "Hidden_Layer_2 (Dense)       (None, 100)               20100     \n",
      "_________________________________________________________________\n",
      "Hidden_Layer_3 (Dense)       (None, 100)               10100     \n",
      "_________________________________________________________________\n",
      "Hidden_Layer_4 (Dense)       (None, 200)               20200     \n",
      "_________________________________________________________________\n",
      "Output_Layer (Dense)         (None, 10)                2010      \n",
      "=================================================================\n",
      "Total params: 65,410\n",
      "Trainable params: 65,410\n",
      "Non-trainable params: 0\n",
      "_________________________________________________________________\n"
     ]
    }
   ],
   "source": [
    "print(\"MODEL SUMMARY\\n\")\n",
    "\n",
    "model.summary()"
   ]
  },
  {
   "cell_type": "markdown",
   "metadata": {},
   "source": [
    "* ### Compiling of the Model"
   ]
  },
  {
   "cell_type": "code",
   "execution_count": 29,
   "metadata": {},
   "outputs": [],
   "source": [
    "# Defining learning rate\n",
    "learning_rate = 0.1\n",
    "\n",
    "sgd = optimizers.SGD(lr=learning_rate)\n",
    "\n",
    "model.compile(optimizer='sgd',\n",
    "              loss='categorical_crossentropy',\n",
    "              metrics=['accuracy'])"
   ]
  },
  {
   "cell_type": "code",
   "execution_count": 30,
   "metadata": {},
   "outputs": [
    {
     "name": "stdout",
     "output_type": "stream",
     "text": [
      "Epoch 1/25\n",
      "96/96 - 1s - loss: 2.2628 - accuracy: 0.1593 - val_loss: 2.2062 - val_accuracy: 0.2261\n",
      "Epoch 2/25\n",
      "96/96 - 0s - loss: 2.1503 - accuracy: 0.3803 - val_loss: 2.0638 - val_accuracy: 0.6118\n",
      "Epoch 3/25\n",
      "96/96 - 0s - loss: 1.9500 - accuracy: 0.6606 - val_loss: 1.7843 - val_accuracy: 0.7412\n",
      "Epoch 4/25\n",
      "96/96 - 0s - loss: 1.5605 - accuracy: 0.7610 - val_loss: 1.3012 - val_accuracy: 0.8196\n",
      "Epoch 5/25\n",
      "96/96 - 0s - loss: 1.0507 - accuracy: 0.8316 - val_loss: 0.8490 - val_accuracy: 0.8824\n",
      "Epoch 6/25\n",
      "96/96 - 0s - loss: 0.6981 - accuracy: 0.8797 - val_loss: 0.5818 - val_accuracy: 0.8954\n",
      "Epoch 7/25\n",
      "96/96 - 0s - loss: 0.4986 - accuracy: 0.9039 - val_loss: 0.4383 - val_accuracy: 0.9203\n",
      "Epoch 8/25\n",
      "96/96 - 0s - loss: 0.3811 - accuracy: 0.9241 - val_loss: 0.3638 - val_accuracy: 0.9111\n",
      "Epoch 9/25\n",
      "96/96 - 0s - loss: 0.3096 - accuracy: 0.9339 - val_loss: 0.2888 - val_accuracy: 0.9386\n",
      "Epoch 10/25\n",
      "96/96 - 0s - loss: 0.2640 - accuracy: 0.9379 - val_loss: 0.2509 - val_accuracy: 0.9359\n",
      "Epoch 11/25\n",
      "96/96 - 0s - loss: 0.2295 - accuracy: 0.9457 - val_loss: 0.2376 - val_accuracy: 0.9359\n",
      "Epoch 12/25\n",
      "96/96 - 0s - loss: 0.2066 - accuracy: 0.9487 - val_loss: 0.2030 - val_accuracy: 0.9503\n",
      "Epoch 13/25\n",
      "96/96 - 0s - loss: 0.1896 - accuracy: 0.9496 - val_loss: 0.1922 - val_accuracy: 0.9464\n",
      "Epoch 14/25\n",
      "96/96 - 0s - loss: 0.1750 - accuracy: 0.9539 - val_loss: 0.1777 - val_accuracy: 0.9503\n",
      "Epoch 15/25\n",
      "96/96 - 0s - loss: 0.1631 - accuracy: 0.9581 - val_loss: 0.1723 - val_accuracy: 0.9516\n",
      "Epoch 16/25\n",
      "96/96 - 0s - loss: 0.1559 - accuracy: 0.9559 - val_loss: 0.1699 - val_accuracy: 0.9529\n",
      "Epoch 17/25\n",
      "96/96 - 0s - loss: 0.1454 - accuracy: 0.9591 - val_loss: 0.2030 - val_accuracy: 0.9399\n",
      "Epoch 18/25\n",
      "96/96 - 0s - loss: 0.1390 - accuracy: 0.9621 - val_loss: 0.1517 - val_accuracy: 0.9621\n",
      "Epoch 19/25\n",
      "96/96 - 0s - loss: 0.1323 - accuracy: 0.9621 - val_loss: 0.1501 - val_accuracy: 0.9582\n",
      "Epoch 20/25\n",
      "96/96 - 0s - loss: 0.1262 - accuracy: 0.9660 - val_loss: 0.1347 - val_accuracy: 0.9634\n",
      "Epoch 21/25\n",
      "96/96 - 0s - loss: 0.1203 - accuracy: 0.9686 - val_loss: 0.1421 - val_accuracy: 0.9673\n",
      "Epoch 22/25\n",
      "96/96 - 0s - loss: 0.1176 - accuracy: 0.9670 - val_loss: 0.1300 - val_accuracy: 0.9686\n",
      "Epoch 23/25\n",
      "96/96 - 0s - loss: 0.1109 - accuracy: 0.9702 - val_loss: 0.1416 - val_accuracy: 0.9582\n",
      "Epoch 24/25\n",
      "96/96 - 0s - loss: 0.1056 - accuracy: 0.9729 - val_loss: 0.1320 - val_accuracy: 0.9686\n",
      "Epoch 25/25\n",
      "96/96 - 0s - loss: 0.1053 - accuracy: 0.9696 - val_loss: 0.1321 - val_accuracy: 0.9608\n"
     ]
    }
   ],
   "source": [
    "# Defining batch and epoch sizes\n",
    "batch_size = 32\n",
    "epochs = 25\n",
    "\n",
    "history  =  model.fit(X_train, y_train,\n",
    "                      batch_size = batch_size,\n",
    "                      epochs = epochs,\n",
    "                      validation_data=(X_val, y_val),\n",
    "                      verbose=2)"
   ]
  },
  {
   "cell_type": "code",
   "execution_count": 31,
   "metadata": {},
   "outputs": [
    {
     "name": "stdout",
     "output_type": "stream",
     "text": [
      "Best Validation Accuracy: % 96.86274528503418\n"
     ]
    }
   ],
   "source": [
    "best_val_accuracy = max(history.history['val_accuracy'])\n",
    "print(\"Best Validation Accuracy: %\",best_val_accuracy*100)"
   ]
  },
  {
   "cell_type": "code",
   "execution_count": 32,
   "metadata": {},
   "outputs": [
    {
     "data": {
      "image/png": "[encoded data removed]",
      "text/plain": [
       "<Figure size 432x288 with 1 Axes>"
      ]
     },
     "metadata": {
      "needs_background": "light"
     },
     "output_type": "display_data"
    },
    {
     "data": {
      "image/png": "[encoded data removed]",
      "text/plain": [
       "<Figure size 432x288 with 1 Axes>"
      ]
     },
     "metadata": {
      "needs_background": "light"
     },
     "output_type": "display_data"
    }
   ],
   "source": [
    "#Plot Accuracy and Loss\n",
    "\n",
    "acc = history.history['accuracy']\n",
    "val_acc = history.history['val_accuracy']\n",
    "loss = history.history['loss']\n",
    "val_loss = history.history['val_loss']\n",
    "epochs = range(1, len(loss) + 1)\n",
    "\n",
    "#accuracy plot\n",
    "plt.plot(epochs, acc, color='green', label='Training Accuracy')\n",
    "plt.plot(epochs, val_acc, color='blue', label='Validation Accuracy')\n",
    "plt.title('Training and Validation Accuracy')\n",
    "plt.ylabel('Accuracy')\n",
    "plt.xlabel('Epoch')\n",
    "plt.legend()\n",
    "\n",
    "plt.figure()\n",
    "\n",
    "#loss plot\n",
    "plt.plot(epochs, loss, color='pink', label='Training Loss')\n",
    "plt.plot(epochs, val_loss, color='red', label='Validation Loss')\n",
    "plt.title('Training and Validation Loss')\n",
    "plt.xlabel('Epoch')\n",
    "plt.ylabel('Loss')\n",
    "plt.legend()\n",
    "\n",
    "plt.show()"
   ]
  },
  {
   "cell_type": "markdown",
   "metadata": {},
   "source": [
    " ## <u>Model 2</u>"
   ]
  },
  {
   "cell_type": "code",
   "execution_count": 49,
   "metadata": {},
   "outputs": [],
   "source": [
    "num__of_digits = 10\n",
    "\n",
    "model2 = Sequential()\n",
    "model2.add(Dense(200, input_dim=64, activation='relu', name='Hidden_Layer_1'))\n",
    "model2.add(Dense(100, activation='relu', name='Hidden_Layer_2'))\n",
    "model2.add(Dense(100, activation='relu', name='Hidden_Layer_3'))\n",
    "model2.add(Dense(200, activation='relu', name='Hidden_Layer_4'))\n",
    "model2.add(Dense(num__of_digits, activation='softmax', name='Output_Layer'))\n",
    "\n",
    "# Input Layer - 4 Hidden Layer - Output Layer"
   ]
  },
  {
   "cell_type": "code",
   "execution_count": 50,
   "metadata": {},
   "outputs": [
    {
     "name": "stdout",
     "output_type": "stream",
     "text": [
      "MODEL SUMMARY\n",
      "\n",
      "Model: \"sequential_4\"\n",
      "_________________________________________________________________\n",
      "Layer (type)                 Output Shape              Param #   \n",
      "=================================================================\n",
      "Hidden_Layer_1 (Dense)       (None, 200)               13000     \n",
      "_________________________________________________________________\n",
      "Hidden_Layer_2 (Dense)       (None, 100)               20100     \n",
      "_________________________________________________________________\n",
      "Hidden_Layer_3 (Dense)       (None, 100)               10100     \n",
      "_________________________________________________________________\n",
      "Hidden_Layer_4 (Dense)       (None, 200)               20200     \n",
      "_________________________________________________________________\n",
      "Output_Layer (Dense)         (None, 10)                2010      \n",
      "=================================================================\n",
      "Total params: 65,410\n",
      "Trainable params: 65,410\n",
      "Non-trainable params: 0\n",
      "_________________________________________________________________\n"
     ]
    }
   ],
   "source": [
    "print(\"MODEL SUMMARY\\n\")\n",
    "\n",
    "model2.summary()"
   ]
  },
  {
   "cell_type": "markdown",
   "metadata": {},
   "source": [
    "* ### Compiling of the Model"
   ]
  },
  {
   "cell_type": "code",
   "execution_count": 51,
   "metadata": {},
   "outputs": [],
   "source": [
    "# Defining learning rate\n",
    "learning_rate = 0.1\n",
    "\n",
    "# We use Adam optimizer for Model 2.\n",
    "adam = optimizers.Adam(lr=learning_rate)\n",
    "\n",
    "model2.compile(optimizer='adam',\n",
    "              loss='categorical_crossentropy',\n",
    "              metrics=['accuracy'])"
   ]
  },
  {
   "cell_type": "code",
   "execution_count": 52,
   "metadata": {},
   "outputs": [
    {
     "name": "stdout",
     "output_type": "stream",
     "text": [
      "Epoch 1/25\n",
      "96/96 - 1s - loss: 0.8284 - accuracy: 0.7695 - val_loss: 0.2438 - val_accuracy: 0.9268\n",
      "Epoch 2/25\n",
      "96/96 - 0s - loss: 0.1716 - accuracy: 0.9467 - val_loss: 0.1430 - val_accuracy: 0.9634\n",
      "Epoch 3/25\n",
      "96/96 - 0s - loss: 0.0989 - accuracy: 0.9725 - val_loss: 0.1665 - val_accuracy: 0.9582\n",
      "Epoch 4/25\n",
      "96/96 - 0s - loss: 0.0913 - accuracy: 0.9725 - val_loss: 0.1301 - val_accuracy: 0.9608\n",
      "Epoch 5/25\n",
      "96/96 - 0s - loss: 0.0784 - accuracy: 0.9771 - val_loss: 0.0921 - val_accuracy: 0.9765\n",
      "Epoch 6/25\n",
      "96/96 - 0s - loss: 0.0480 - accuracy: 0.9856 - val_loss: 0.1092 - val_accuracy: 0.9660\n",
      "Epoch 7/25\n",
      "96/96 - 0s - loss: 0.0625 - accuracy: 0.9768 - val_loss: 0.0802 - val_accuracy: 0.9765\n",
      "Epoch 8/25\n",
      "96/96 - 0s - loss: 0.0338 - accuracy: 0.9908 - val_loss: 0.0779 - val_accuracy: 0.9804\n",
      "Epoch 9/25\n",
      "96/96 - 0s - loss: 0.0194 - accuracy: 0.9944 - val_loss: 0.0780 - val_accuracy: 0.9752\n",
      "Epoch 10/25\n",
      "96/96 - 0s - loss: 0.0166 - accuracy: 0.9948 - val_loss: 0.0757 - val_accuracy: 0.9791\n",
      "Epoch 11/25\n",
      "96/96 - 0s - loss: 0.0113 - accuracy: 0.9971 - val_loss: 0.0788 - val_accuracy: 0.9830\n",
      "Epoch 12/25\n",
      "96/96 - 0s - loss: 0.0189 - accuracy: 0.9938 - val_loss: 0.0868 - val_accuracy: 0.9804\n",
      "Epoch 13/25\n",
      "96/96 - 0s - loss: 0.0298 - accuracy: 0.9918 - val_loss: 0.0620 - val_accuracy: 0.9830\n",
      "Epoch 14/25\n",
      "96/96 - 0s - loss: 0.0105 - accuracy: 0.9964 - val_loss: 0.0536 - val_accuracy: 0.9830\n",
      "Epoch 15/25\n",
      "96/96 - 0s - loss: 0.0057 - accuracy: 0.9977 - val_loss: 0.1021 - val_accuracy: 0.9804\n",
      "Epoch 16/25\n",
      "96/96 - 0s - loss: 0.0176 - accuracy: 0.9941 - val_loss: 0.0846 - val_accuracy: 0.9765\n",
      "Epoch 17/25\n",
      "96/96 - 0s - loss: 0.0436 - accuracy: 0.9850 - val_loss: 0.0812 - val_accuracy: 0.9725\n",
      "Epoch 18/25\n",
      "96/96 - 0s - loss: 0.0186 - accuracy: 0.9938 - val_loss: 0.1142 - val_accuracy: 0.9699\n",
      "Epoch 19/25\n",
      "96/96 - 0s - loss: 0.0089 - accuracy: 0.9964 - val_loss: 0.0661 - val_accuracy: 0.9830\n",
      "Epoch 20/25\n",
      "96/96 - 0s - loss: 0.0014 - accuracy: 1.0000 - val_loss: 0.0625 - val_accuracy: 0.9843\n",
      "Epoch 21/25\n",
      "96/96 - 0s - loss: 9.2988e-04 - accuracy: 1.0000 - val_loss: 0.0643 - val_accuracy: 0.9856\n",
      "Epoch 22/25\n",
      "96/96 - 0s - loss: 5.2180e-04 - accuracy: 1.0000 - val_loss: 0.0640 - val_accuracy: 0.9856\n",
      "Epoch 23/25\n",
      "96/96 - 0s - loss: 6.8098e-04 - accuracy: 1.0000 - val_loss: 0.0694 - val_accuracy: 0.9843\n",
      "Epoch 24/25\n",
      "96/96 - 0s - loss: 5.1047e-04 - accuracy: 1.0000 - val_loss: 0.0652 - val_accuracy: 0.9856\n",
      "Epoch 25/25\n",
      "96/96 - 0s - loss: 3.0926e-04 - accuracy: 1.0000 - val_loss: 0.0672 - val_accuracy: 0.9830\n"
     ]
    }
   ],
   "source": [
    "# Defining batch and epoch sizes\n",
    "batch_size = 32\n",
    "epochs = 25\n",
    "\n",
    "history  =  model2.fit(X_train, y_train,\n",
    "                      batch_size = batch_size,\n",
    "                      epochs = epochs,\n",
    "                      validation_data=(X_val, y_val),\n",
    "                      verbose=2)"
   ]
  },
  {
   "cell_type": "code",
   "execution_count": 53,
   "metadata": {},
   "outputs": [
    {
     "name": "stdout",
     "output_type": "stream",
     "text": [
      "Best Validation Accuracy: % 98.562091588974\n"
     ]
    }
   ],
   "source": [
    "best_val_accuracy = max(history.history['val_accuracy'])\n",
    "print(\"Best Validation Accuracy: %\",best_val_accuracy*100)"
   ]
  },
  {
   "cell_type": "code",
   "execution_count": 54,
   "metadata": {},
   "outputs": [
    {
     "data": {
      "image/png": "[encoded data removed]",
      "text/plain": [
       "<Figure size 432x288 with 1 Axes>"
      ]
     },
     "metadata": {
      "needs_background": "light"
     },
     "output_type": "display_data"
    },
    {
     "data": {
      "image/png": "[encoded data removed]",
      "text/plain": [
       "<Figure size 432x288 with 1 Axes>"
      ]
     },
     "metadata": {
      "needs_background": "light"
     },
     "output_type": "display_data"
    }
   ],
   "source": [
    "#Plot Accuracy and Loss\n",
    "\n",
    "acc = history.history['accuracy']\n",
    "val_acc = history.history['val_accuracy']\n",
    "loss = history.history['loss']\n",
    "val_loss = history.history['val_loss']\n",
    "epochs = range(1, len(loss) + 1)\n",
    "\n",
    "#accuracy plot\n",
    "plt.plot(epochs, acc, color='green', label='Training Accuracy')\n",
    "plt.plot(epochs, val_acc, color='blue', label='Validation Accuracy')\n",
    "plt.title('Training and Validation Accuracy')\n",
    "plt.ylabel('Accuracy')\n",
    "plt.xlabel('Epoch')\n",
    "plt.legend()\n",
    "\n",
    "plt.figure()\n",
    "\n",
    "#loss plot\n",
    "plt.plot(epochs, loss, color='pink', label='Training Loss')\n",
    "plt.plot(epochs, val_loss, color='red', label='Validation Loss')\n",
    "plt.title('Training and Validation Loss')\n",
    "plt.xlabel('Epoch')\n",
    "plt.ylabel('Loss')\n",
    "plt.legend()\n",
    "\n",
    "plt.show()"
   ]
  },
  {
   "cell_type": "markdown",
   "metadata": {},
   "source": [
    " ## <u>Model 3</u>"
   ]
  },
  {
   "cell_type": "code",
   "execution_count": 55,
   "metadata": {},
   "outputs": [],
   "source": [
    "num__of_digits = 10\n",
    "\n",
    "model3 = Sequential()\n",
    "model3.add(Dense(200, input_dim=64, activation='relu', name='Hidden_Layer_1'))\n",
    "model3.add(Dense(100, activation='relu', name='Hidden_Layer_2'))\n",
    "model3.add(Dense(100, activation='relu', name='Hidden_Layer_3'))\n",
    "model3.add(Dense(200, activation='relu', name='Hidden_Layer_4'))\n",
    "model3.add(Dense(num__of_digits, activation='softmax', name='Output_Layer'))\n",
    "\n",
    "# Input Layer - 4 Hidden Layer - Output Layer"
   ]
  },
  {
   "cell_type": "code",
   "execution_count": 56,
   "metadata": {},
   "outputs": [
    {
     "name": "stdout",
     "output_type": "stream",
     "text": [
      "MODEL SUMMARY\n",
      "\n",
      "Model: \"sequential_5\"\n",
      "_________________________________________________________________\n",
      "Layer (type)                 Output Shape              Param #   \n",
      "=================================================================\n",
      "Hidden_Layer_1 (Dense)       (None, 200)               13000     \n",
      "_________________________________________________________________\n",
      "Hidden_Layer_2 (Dense)       (None, 100)               20100     \n",
      "_________________________________________________________________\n",
      "Hidden_Layer_3 (Dense)       (None, 100)               10100     \n",
      "_________________________________________________________________\n",
      "Hidden_Layer_4 (Dense)       (None, 200)               20200     \n",
      "_________________________________________________________________\n",
      "Output_Layer (Dense)         (None, 10)                2010      \n",
      "=================================================================\n",
      "Total params: 65,410\n",
      "Trainable params: 65,410\n",
      "Non-trainable params: 0\n",
      "_________________________________________________________________\n"
     ]
    }
   ],
   "source": [
    "print(\"MODEL SUMMARY\\n\")\n",
    "\n",
    "model3.summary()"
   ]
  },
  {
   "cell_type": "markdown",
   "metadata": {},
   "source": [
    "* ### Compiling of the Model"
   ]
  },
  {
   "cell_type": "code",
   "execution_count": 57,
   "metadata": {},
   "outputs": [],
   "source": [
    "# Defining learning rate\n",
    "# We use lr=0.01 for Model 3.\n",
    "learning_rate = 0.01\n",
    "\n",
    "# We use Adam optimizer for Model 3.\n",
    "adam = optimizers.Adam(lr=learning_rate)\n",
    "\n",
    "model3.compile(optimizer='adam',\n",
    "              loss='categorical_crossentropy',\n",
    "              metrics=['accuracy'])"
   ]
  },
  {
   "cell_type": "code",
   "execution_count": 58,
   "metadata": {},
   "outputs": [
    {
     "name": "stdout",
     "output_type": "stream",
     "text": [
      "Epoch 1/25\n",
      "96/96 - 1s - loss: 0.8805 - accuracy: 0.7498 - val_loss: 0.2613 - val_accuracy: 0.9242\n",
      "Epoch 2/25\n",
      "96/96 - 0s - loss: 0.1721 - accuracy: 0.9490 - val_loss: 0.1400 - val_accuracy: 0.9673\n",
      "Epoch 3/25\n",
      "96/96 - 0s - loss: 0.1035 - accuracy: 0.9686 - val_loss: 0.1206 - val_accuracy: 0.9712\n",
      "Epoch 4/25\n",
      "96/96 - 0s - loss: 0.0853 - accuracy: 0.9729 - val_loss: 0.0934 - val_accuracy: 0.9725\n",
      "Epoch 5/25\n",
      "96/96 - 0s - loss: 0.0647 - accuracy: 0.9814 - val_loss: 0.1411 - val_accuracy: 0.9608\n",
      "Epoch 6/25\n",
      "96/96 - 0s - loss: 0.0591 - accuracy: 0.9804 - val_loss: 0.0994 - val_accuracy: 0.9699\n",
      "Epoch 7/25\n",
      "96/96 - 0s - loss: 0.0491 - accuracy: 0.9846 - val_loss: 0.0940 - val_accuracy: 0.9791\n",
      "Epoch 8/25\n",
      "96/96 - 0s - loss: 0.0318 - accuracy: 0.9902 - val_loss: 0.2255 - val_accuracy: 0.9451\n",
      "Epoch 9/25\n",
      "96/96 - 0s - loss: 0.0437 - accuracy: 0.9859 - val_loss: 0.0904 - val_accuracy: 0.9725\n",
      "Epoch 10/25\n",
      "96/96 - 0s - loss: 0.0321 - accuracy: 0.9902 - val_loss: 0.1614 - val_accuracy: 0.9595\n",
      "Epoch 11/25\n",
      "96/96 - 0s - loss: 0.0320 - accuracy: 0.9892 - val_loss: 0.0713 - val_accuracy: 0.9791\n",
      "Epoch 12/25\n",
      "96/96 - 0s - loss: 0.0178 - accuracy: 0.9941 - val_loss: 0.0910 - val_accuracy: 0.9752\n",
      "Epoch 13/25\n",
      "96/96 - 0s - loss: 0.0065 - accuracy: 0.9987 - val_loss: 0.0760 - val_accuracy: 0.9804\n",
      "Epoch 14/25\n",
      "96/96 - 0s - loss: 0.0137 - accuracy: 0.9957 - val_loss: 0.1043 - val_accuracy: 0.9752\n",
      "Epoch 15/25\n",
      "96/96 - 0s - loss: 0.0131 - accuracy: 0.9971 - val_loss: 0.0773 - val_accuracy: 0.9817\n",
      "Epoch 16/25\n",
      "96/96 - 0s - loss: 0.0112 - accuracy: 0.9964 - val_loss: 0.1102 - val_accuracy: 0.9752\n",
      "Epoch 17/25\n",
      "96/96 - 0s - loss: 0.0132 - accuracy: 0.9957 - val_loss: 0.1034 - val_accuracy: 0.9791\n",
      "Epoch 18/25\n",
      "96/96 - 0s - loss: 0.0065 - accuracy: 0.9977 - val_loss: 0.0591 - val_accuracy: 0.9869\n",
      "Epoch 19/25\n",
      "96/96 - 0s - loss: 0.0215 - accuracy: 0.9922 - val_loss: 0.0835 - val_accuracy: 0.9752\n",
      "Epoch 20/25\n",
      "96/96 - 0s - loss: 0.0257 - accuracy: 0.9925 - val_loss: 0.1047 - val_accuracy: 0.9765\n",
      "Epoch 21/25\n",
      "96/96 - 0s - loss: 0.0105 - accuracy: 0.9967 - val_loss: 0.1617 - val_accuracy: 0.9608\n",
      "Epoch 22/25\n",
      "96/96 - 0s - loss: 0.0119 - accuracy: 0.9964 - val_loss: 0.0872 - val_accuracy: 0.9778\n",
      "Epoch 23/25\n",
      "96/96 - 0s - loss: 0.0022 - accuracy: 0.9997 - val_loss: 0.0754 - val_accuracy: 0.9869\n",
      "Epoch 24/25\n",
      "96/96 - 0s - loss: 0.0045 - accuracy: 0.9984 - val_loss: 0.0767 - val_accuracy: 0.9830\n",
      "Epoch 25/25\n",
      "96/96 - 0s - loss: 0.0073 - accuracy: 0.9977 - val_loss: 0.0883 - val_accuracy: 0.9830\n"
     ]
    }
   ],
   "source": [
    "# Defining batch and epoch sizes\n",
    "batch_size = 32\n",
    "epochs = 25\n",
    "\n",
    "history  =  model3.fit(X_train, y_train,\n",
    "                      batch_size = batch_size,\n",
    "                      epochs = epochs,\n",
    "                      validation_data=(X_val, y_val),\n",
    "                      verbose=2)"
   ]
  },
  {
   "cell_type": "code",
   "execution_count": 59,
   "metadata": {},
   "outputs": [
    {
     "name": "stdout",
     "output_type": "stream",
     "text": [
      "Best Validation Accuracy: % 98.69281053543091\n"
     ]
    }
   ],
   "source": [
    "best_val_accuracy = max(history.history['val_accuracy'])\n",
    "print(\"Best Validation Accuracy: %\",best_val_accuracy*100)"
   ]
  },
  {
   "cell_type": "code",
   "execution_count": 60,
   "metadata": {},
   "outputs": [
    {
     "data": {
      "image/png": "[encoded data removed]",
      "text/plain": [
       "<Figure size 432x288 with 1 Axes>"
      ]
     },
     "metadata": {
      "needs_background": "light"
     },
     "output_type": "display_data"
    },
    {
     "data": {
      "image/png": "[encoded data removed]",
      "text/plain": [
       "<Figure size 432x288 with 1 Axes>"
      ]
     },
     "metadata": {
      "needs_background": "light"
     },
     "output_type": "display_data"
    }
   ],
   "source": [
    "#Plot Accuracy and Loss\n",
    "\n",
    "acc = history.history['accuracy']\n",
    "val_acc = history.history['val_accuracy']\n",
    "loss = history.history['loss']\n",
    "val_loss = history.history['val_loss']\n",
    "epochs = range(1, len(loss) + 1)\n",
    "\n",
    "#accuracy plot\n",
    "plt.plot(epochs, acc, color='green', label='Training Accuracy')\n",
    "plt.plot(epochs, val_acc, color='blue', label='Validation Accuracy')\n",
    "plt.title('Training and Validation Accuracy')\n",
    "plt.ylabel('Accuracy')\n",
    "plt.xlabel('Epoch')\n",
    "plt.legend()\n",
    "\n",
    "plt.figure()\n",
    "\n",
    "#loss plot\n",
    "plt.plot(epochs, loss, color='pink', label='Training Loss')\n",
    "plt.plot(epochs, val_loss, color='red', label='Validation Loss')\n",
    "plt.title('Training and Validation Loss')\n",
    "plt.xlabel('Epoch')\n",
    "plt.ylabel('Loss')\n",
    "plt.legend()\n",
    "\n",
    "plt.show()"
   ]
  },
  {
   "cell_type": "markdown",
   "metadata": {},
   "source": [
    " ## <u>Model 4</u>"
   ]
  },
  {
   "cell_type": "code",
   "execution_count": 72,
   "metadata": {},
   "outputs": [],
   "source": [
    "num__of_digits = 10\n",
    "\n",
    "# We add one mode hidden layer for 4th Model.\n",
    "\n",
    "model4 = Sequential()\n",
    "model4.add(Dense(200, input_dim=64, activation='relu', name='Hidden_Layer_1'))\n",
    "model4.add(Dense(100, activation='relu', name='Hidden_Layer_2'))\n",
    "model4.add(Dense(100, activation='relu', name='Hidden_Layer_3'))\n",
    "model4.add(Dense(200, activation='relu', name='Hidden_Layer_4'))\n",
    "model4.add(Dense(100, activation='relu', name='Hidden_Layer_5'))\n",
    "model4.add(Dense(num__of_digits, activation='softmax', name='Output_Layer'))\n",
    "\n",
    "# Input Layer - 5 Hidden Layer - Output Layer"
   ]
  },
  {
   "cell_type": "code",
   "execution_count": 73,
   "metadata": {},
   "outputs": [
    {
     "name": "stdout",
     "output_type": "stream",
     "text": [
      "MODEL SUMMARY\n",
      "\n",
      "Model: \"sequential_8\"\n",
      "_________________________________________________________________\n",
      "Layer (type)                 Output Shape              Param #   \n",
      "=================================================================\n",
      "Hidden_Layer_1 (Dense)       (None, 200)               13000     \n",
      "_________________________________________________________________\n",
      "Hidden_Layer_2 (Dense)       (None, 100)               20100     \n",
      "_________________________________________________________________\n",
      "Hidden_Layer_3 (Dense)       (None, 100)               10100     \n",
      "_________________________________________________________________\n",
      "Hidden_Layer_4 (Dense)       (None, 200)               20200     \n",
      "_________________________________________________________________\n",
      "Hidden_Layer_5 (Dense)       (None, 100)               20100     \n",
      "_________________________________________________________________\n",
      "Output_Layer (Dense)         (None, 10)                1010      \n",
      "=================================================================\n",
      "Total params: 84,510\n",
      "Trainable params: 84,510\n",
      "Non-trainable params: 0\n",
      "_________________________________________________________________\n"
     ]
    }
   ],
   "source": [
    "print(\"MODEL SUMMARY\\n\")\n",
    "\n",
    "model4.summary()"
   ]
  },
  {
   "cell_type": "markdown",
   "metadata": {},
   "source": [
    "* ### Compiling of the Model"
   ]
  },
  {
   "cell_type": "code",
   "execution_count": 74,
   "metadata": {},
   "outputs": [],
   "source": [
    "# Defining learning rate\n",
    "learning_rate = 0.01\n",
    "\n",
    "# We use Adam optimizer for Model 4.\n",
    "adam = optimizers.Adam(lr=learning_rate)\n",
    "\n",
    "model4.compile(optimizer='adam',\n",
    "              loss='categorical_crossentropy',\n",
    "              metrics=['accuracy'])"
   ]
  },
  {
   "cell_type": "code",
   "execution_count": 75,
   "metadata": {},
   "outputs": [
    {
     "name": "stdout",
     "output_type": "stream",
     "text": [
      "Epoch 1/25\n",
      "96/96 - 1s - loss: 0.8823 - accuracy: 0.7459 - val_loss: 0.1846 - val_accuracy: 0.9490\n",
      "Epoch 2/25\n",
      "96/96 - 0s - loss: 0.1702 - accuracy: 0.9523 - val_loss: 0.1510 - val_accuracy: 0.9608\n",
      "Epoch 3/25\n",
      "96/96 - 0s - loss: 0.1174 - accuracy: 0.9634 - val_loss: 0.1433 - val_accuracy: 0.9686\n",
      "Epoch 4/25\n",
      "96/96 - 0s - loss: 0.0934 - accuracy: 0.9680 - val_loss: 0.1321 - val_accuracy: 0.9569\n",
      "Epoch 5/25\n",
      "96/96 - 0s - loss: 0.0552 - accuracy: 0.9820 - val_loss: 0.0943 - val_accuracy: 0.9712\n",
      "Epoch 6/25\n",
      "96/96 - 0s - loss: 0.0633 - accuracy: 0.9817 - val_loss: 0.0838 - val_accuracy: 0.9765\n",
      "Epoch 7/25\n",
      "96/96 - 0s - loss: 0.0358 - accuracy: 0.9899 - val_loss: 0.0809 - val_accuracy: 0.9765\n",
      "Epoch 8/25\n",
      "96/96 - 0s - loss: 0.0372 - accuracy: 0.9863 - val_loss: 0.0920 - val_accuracy: 0.9765\n",
      "Epoch 9/25\n",
      "96/96 - 0s - loss: 0.0286 - accuracy: 0.9892 - val_loss: 0.0593 - val_accuracy: 0.9843\n",
      "Epoch 10/25\n",
      "96/96 - 0s - loss: 0.0320 - accuracy: 0.9899 - val_loss: 0.0976 - val_accuracy: 0.9752\n",
      "Epoch 11/25\n",
      "96/96 - 0s - loss: 0.0270 - accuracy: 0.9918 - val_loss: 0.1147 - val_accuracy: 0.9673\n",
      "Epoch 12/25\n",
      "96/96 - 0s - loss: 0.0221 - accuracy: 0.9915 - val_loss: 0.0662 - val_accuracy: 0.9817\n",
      "Epoch 13/25\n",
      "96/96 - 0s - loss: 0.0115 - accuracy: 0.9961 - val_loss: 0.0658 - val_accuracy: 0.9804\n",
      "Epoch 14/25\n",
      "96/96 - 0s - loss: 0.0197 - accuracy: 0.9931 - val_loss: 0.1243 - val_accuracy: 0.9739\n",
      "Epoch 15/25\n",
      "96/96 - 0s - loss: 0.0298 - accuracy: 0.9908 - val_loss: 0.0708 - val_accuracy: 0.9817\n",
      "Epoch 16/25\n",
      "96/96 - 0s - loss: 0.0102 - accuracy: 0.9961 - val_loss: 0.0874 - val_accuracy: 0.9830\n",
      "Epoch 17/25\n",
      "96/96 - 0s - loss: 0.0071 - accuracy: 0.9980 - val_loss: 0.0463 - val_accuracy: 0.9869\n",
      "Epoch 18/25\n",
      "96/96 - 0s - loss: 0.0116 - accuracy: 0.9951 - val_loss: 0.0528 - val_accuracy: 0.9856\n",
      "Epoch 19/25\n",
      "96/96 - 0s - loss: 0.0021 - accuracy: 1.0000 - val_loss: 0.0538 - val_accuracy: 0.9843\n",
      "Epoch 20/25\n",
      "96/96 - 0s - loss: 0.0017 - accuracy: 0.9997 - val_loss: 0.1089 - val_accuracy: 0.9752\n",
      "Epoch 21/25\n",
      "96/96 - 0s - loss: 0.0011 - accuracy: 0.9997 - val_loss: 0.0532 - val_accuracy: 0.9856\n",
      "Epoch 22/25\n",
      "96/96 - 0s - loss: 2.5672e-04 - accuracy: 1.0000 - val_loss: 0.0522 - val_accuracy: 0.9882\n",
      "Epoch 23/25\n",
      "96/96 - 0s - loss: 1.9191e-04 - accuracy: 1.0000 - val_loss: 0.0527 - val_accuracy: 0.9882\n",
      "Epoch 24/25\n",
      "96/96 - 0s - loss: 1.5641e-04 - accuracy: 1.0000 - val_loss: 0.0524 - val_accuracy: 0.9882\n",
      "Epoch 25/25\n",
      "96/96 - 0s - loss: 1.3509e-04 - accuracy: 1.0000 - val_loss: 0.0535 - val_accuracy: 0.9882\n"
     ]
    }
   ],
   "source": [
    "# Defining batch and epoch sizes\n",
    "batch_size = 32\n",
    "epochs = 25\n",
    "\n",
    "history  =  model4.fit(X_train, y_train,\n",
    "                      batch_size = batch_size,\n",
    "                      epochs = epochs,\n",
    "                      validation_data=(X_val, y_val),\n",
    "                      verbose=2)"
   ]
  },
  {
   "cell_type": "code",
   "execution_count": 76,
   "metadata": {},
   "outputs": [
    {
     "name": "stdout",
     "output_type": "stream",
     "text": [
      "Best Validation Accuracy: % 98.82352948188782\n"
     ]
    }
   ],
   "source": [
    "best_val_accuracy = max(history.history['val_accuracy'])\n",
    "print(\"Best Validation Accuracy: %\",best_val_accuracy*100)"
   ]
  },
  {
   "cell_type": "code",
   "execution_count": 77,
   "metadata": {},
   "outputs": [
    {
     "data": {
      "image/png": "[encoded data removed]",
      "text/plain": [
       "<Figure size 432x288 with 1 Axes>"
      ]
     },
     "metadata": {
      "needs_background": "light"
     },
     "output_type": "display_data"
    },
    {
     "data": {
      "image/png": "[encoded data removed]",
      "text/plain": [
       "<Figure size 432x288 with 1 Axes>"
      ]
     },
     "metadata": {
      "needs_background": "light"
     },
     "output_type": "display_data"
    }
   ],
   "source": [
    "#Plot Accuracy and Loss\n",
    "\n",
    "acc = history.history['accuracy']\n",
    "val_acc = history.history['val_accuracy']\n",
    "loss = history.history['loss']\n",
    "val_loss = history.history['val_loss']\n",
    "epochs = range(1, len(loss) + 1)\n",
    "\n",
    "#accuracy plot\n",
    "plt.plot(epochs, acc, color='green', label='Training Accuracy')\n",
    "plt.plot(epochs, val_acc, color='blue', label='Validation Accuracy')\n",
    "plt.title('Training and Validation Accuracy')\n",
    "plt.ylabel('Accuracy')\n",
    "plt.xlabel('Epoch')\n",
    "plt.legend()\n",
    "\n",
    "plt.figure()\n",
    "\n",
    "#loss plot\n",
    "plt.plot(epochs, loss, color='pink', label='Training Loss')\n",
    "plt.plot(epochs, val_loss, color='red', label='Validation Loss')\n",
    "plt.title('Training and Validation Loss')\n",
    "plt.xlabel('Epoch')\n",
    "plt.ylabel('Loss')\n",
    "plt.legend()\n",
    "\n",
    "plt.show()"
   ]
  },
  {
   "cell_type": "markdown",
   "metadata": {},
   "source": [
    " ## <u>Model 5</u>"
   ]
  },
  {
   "cell_type": "code",
   "execution_count": 96,
   "metadata": {},
   "outputs": [],
   "source": [
    "num__of_digits = 10\n",
    "\n",
    "# We add Dropout layers to prevent overfitting.\n",
    "\n",
    "model5 = Sequential()\n",
    "model5.add(Dense(200, input_dim=64, activation='relu', name='Hidden_Layer_1'))\n",
    "model5.add(Dropout(0.3))\n",
    "model5.add(Dense(100, activation='relu', name='Hidden_Layer_2'))\n",
    "model5.add(Dropout(0.3))\n",
    "model5.add(Dense(100, activation='relu', name='Hidden_Layer_3'))\n",
    "model5.add(Dropout(0.3))\n",
    "model5.add(Dense(200, activation='relu', name='Hidden_Layer_4'))\n",
    "model5.add(Dropout(0.3))\n",
    "model5.add(Dense(100, activation='relu', name='Hidden_Layer_5'))\n",
    "model5.add(Dense(num__of_digits, activation='softmax', name='Output_Layer'))\n",
    "\n",
    "# Input Layer - 5 Hidden Layer - Output Layer"
   ]
  },
  {
   "cell_type": "code",
   "execution_count": 97,
   "metadata": {},
   "outputs": [
    {
     "name": "stdout",
     "output_type": "stream",
     "text": [
      "MODEL SUMMARY\n",
      "\n",
      "Model: \"sequential_13\"\n",
      "_________________________________________________________________\n",
      "Layer (type)                 Output Shape              Param #   \n",
      "=================================================================\n",
      "Hidden_Layer_1 (Dense)       (None, 200)               13000     \n",
      "_________________________________________________________________\n",
      "dropout_16 (Dropout)         (None, 200)               0         \n",
      "_________________________________________________________________\n",
      "Hidden_Layer_2 (Dense)       (None, 100)               20100     \n",
      "_________________________________________________________________\n",
      "dropout_17 (Dropout)         (None, 100)               0         \n",
      "_________________________________________________________________\n",
      "Hidden_Layer_3 (Dense)       (None, 100)               10100     \n",
      "_________________________________________________________________\n",
      "dropout_18 (Dropout)         (None, 100)               0         \n",
      "_________________________________________________________________\n",
      "Hidden_Layer_4 (Dense)       (None, 200)               20200     \n",
      "_________________________________________________________________\n",
      "dropout_19 (Dropout)         (None, 200)               0         \n",
      "_________________________________________________________________\n",
      "Hidden_Layer_5 (Dense)       (None, 100)               20100     \n",
      "_________________________________________________________________\n",
      "Output_Layer (Dense)         (None, 10)                1010      \n",
      "=================================================================\n",
      "Total params: 84,510\n",
      "Trainable params: 84,510\n",
      "Non-trainable params: 0\n",
      "_________________________________________________________________\n"
     ]
    }
   ],
   "source": [
    "print(\"MODEL SUMMARY\\n\")\n",
    "\n",
    "model5.summary()"
   ]
  },
  {
   "cell_type": "markdown",
   "metadata": {},
   "source": [
    "* ### Compiling of the Model"
   ]
  },
  {
   "cell_type": "code",
   "execution_count": 98,
   "metadata": {},
   "outputs": [],
   "source": [
    "# Defining learning rate\n",
    "learning_rate = 0.01\n",
    "\n",
    "# We use Adam optimizer for Model 5.\n",
    "adam = optimizers.Adam(lr=learning_rate)\n",
    "\n",
    "model5.compile(optimizer='adam',\n",
    "              loss='categorical_crossentropy',\n",
    "              metrics=['accuracy'])"
   ]
  },
  {
   "cell_type": "code",
   "execution_count": 99,
   "metadata": {},
   "outputs": [
    {
     "name": "stdout",
     "output_type": "stream",
     "text": [
      "Epoch 1/25\n",
      "96/96 - 1s - loss: 1.6000 - accuracy: 0.4457 - val_loss: 0.4531 - val_accuracy: 0.9059\n",
      "Epoch 2/25\n",
      "96/96 - 0s - loss: 0.5488 - accuracy: 0.8211 - val_loss: 0.1979 - val_accuracy: 0.9425\n",
      "Epoch 3/25\n",
      "96/96 - 0s - loss: 0.3194 - accuracy: 0.8996 - val_loss: 0.1373 - val_accuracy: 0.9556\n",
      "Epoch 4/25\n",
      "96/96 - 0s - loss: 0.2411 - accuracy: 0.9274 - val_loss: 0.1071 - val_accuracy: 0.9712\n",
      "Epoch 5/25\n",
      "96/96 - 0s - loss: 0.1864 - accuracy: 0.9434 - val_loss: 0.1064 - val_accuracy: 0.9739\n",
      "Epoch 6/25\n",
      "96/96 - 0s - loss: 0.1641 - accuracy: 0.9474 - val_loss: 0.0957 - val_accuracy: 0.9712\n",
      "Epoch 7/25\n",
      "96/96 - 0s - loss: 0.1553 - accuracy: 0.9519 - val_loss: 0.0847 - val_accuracy: 0.9804\n",
      "Epoch 8/25\n",
      "96/96 - 0s - loss: 0.1431 - accuracy: 0.9559 - val_loss: 0.0775 - val_accuracy: 0.9817\n",
      "Epoch 9/25\n",
      "96/96 - 0s - loss: 0.1276 - accuracy: 0.9634 - val_loss: 0.0722 - val_accuracy: 0.9830\n",
      "Epoch 10/25\n",
      "96/96 - 0s - loss: 0.1307 - accuracy: 0.9617 - val_loss: 0.0883 - val_accuracy: 0.9765\n",
      "Epoch 11/25\n",
      "96/96 - 0s - loss: 0.1032 - accuracy: 0.9680 - val_loss: 0.0818 - val_accuracy: 0.9765\n",
      "Epoch 12/25\n",
      "96/96 - 0s - loss: 0.1032 - accuracy: 0.9719 - val_loss: 0.0874 - val_accuracy: 0.9778\n",
      "Epoch 13/25\n",
      "96/96 - 0s - loss: 0.0938 - accuracy: 0.9719 - val_loss: 0.0645 - val_accuracy: 0.9830\n",
      "Epoch 14/25\n",
      "96/96 - 0s - loss: 0.0833 - accuracy: 0.9761 - val_loss: 0.0697 - val_accuracy: 0.9791\n",
      "Epoch 15/25\n",
      "96/96 - 0s - loss: 0.0877 - accuracy: 0.9755 - val_loss: 0.0563 - val_accuracy: 0.9869\n",
      "Epoch 16/25\n",
      "96/96 - 0s - loss: 0.0869 - accuracy: 0.9738 - val_loss: 0.0780 - val_accuracy: 0.9830\n",
      "Epoch 17/25\n",
      "96/96 - 0s - loss: 0.0662 - accuracy: 0.9791 - val_loss: 0.0593 - val_accuracy: 0.9869\n",
      "Epoch 18/25\n",
      "96/96 - 0s - loss: 0.0672 - accuracy: 0.9823 - val_loss: 0.0736 - val_accuracy: 0.9856\n",
      "Epoch 19/25\n",
      "96/96 - 0s - loss: 0.0556 - accuracy: 0.9827 - val_loss: 0.0896 - val_accuracy: 0.9778\n",
      "Epoch 20/25\n",
      "96/96 - 0s - loss: 0.0703 - accuracy: 0.9807 - val_loss: 0.1001 - val_accuracy: 0.9804\n",
      "Epoch 21/25\n",
      "96/96 - 0s - loss: 0.0446 - accuracy: 0.9856 - val_loss: 0.0661 - val_accuracy: 0.9856\n",
      "Epoch 22/25\n",
      "96/96 - 0s - loss: 0.0546 - accuracy: 0.9827 - val_loss: 0.0758 - val_accuracy: 0.9804\n",
      "Epoch 23/25\n",
      "96/96 - 0s - loss: 0.0513 - accuracy: 0.9846 - val_loss: 0.0453 - val_accuracy: 0.9869\n",
      "Epoch 24/25\n",
      "96/96 - 0s - loss: 0.0598 - accuracy: 0.9817 - val_loss: 0.0690 - val_accuracy: 0.9843\n",
      "Epoch 25/25\n",
      "96/96 - 0s - loss: 0.0510 - accuracy: 0.9846 - val_loss: 0.0561 - val_accuracy: 0.9908\n"
     ]
    }
   ],
   "source": [
    "# Defining batch and epoch sizes\n",
    "batch_size = 32\n",
    "epochs = 25\n",
    "\n",
    "history  =  model5.fit(X_train, y_train,\n",
    "                      batch_size = batch_size,\n",
    "                      epochs = epochs,\n",
    "                      validation_data=(X_val, y_val),\n",
    "                      verbose=2)"
   ]
  },
  {
   "cell_type": "code",
   "execution_count": 100,
   "metadata": {},
   "outputs": [
    {
     "name": "stdout",
     "output_type": "stream",
     "text": [
      "Best Validation Accuracy: % 99.08496737480164\n"
     ]
    }
   ],
   "source": [
    "best_val_accuracy = max(history.history['val_accuracy'])\n",
    "print(\"Best Validation Accuracy: %\",best_val_accuracy*100)"
   ]
  },
  {
   "cell_type": "code",
   "execution_count": 101,
   "metadata": {},
   "outputs": [
    {
     "data": {
      "image/png": "[encoded data removed]",
      "text/plain": [
       "<Figure size 432x288 with 1 Axes>"
      ]
     },
     "metadata": {
      "needs_background": "light"
     },
     "output_type": "display_data"
    },
    {
     "data": {
      "image/png": "[encoded data removed]",
      "text/plain": [
       "<Figure size 432x288 with 1 Axes>"
      ]
     },
     "metadata": {
      "needs_background": "light"
     },
     "output_type": "display_data"
    }
   ],
   "source": [
    "#Plot Accuracy and Loss\n",
    "\n",
    "acc = history.history['accuracy']\n",
    "val_acc = history.history['val_accuracy']\n",
    "loss = history.history['loss']\n",
    "val_loss = history.history['val_loss']\n",
    "epochs = range(1, len(loss) + 1)\n",
    "\n",
    "#accuracy plot\n",
    "plt.plot(epochs, acc, color='green', label='Training Accuracy')\n",
    "plt.plot(epochs, val_acc, color='blue', label='Validation Accuracy')\n",
    "plt.title('Training and Validation Accuracy')\n",
    "plt.ylabel('Accuracy')\n",
    "plt.xlabel('Epoch')\n",
    "plt.legend()\n",
    "\n",
    "plt.figure()\n",
    "\n",
    "#loss plot\n",
    "plt.plot(epochs, loss, color='pink', label='Training Loss')\n",
    "plt.plot(epochs, val_loss, color='red', label='Validation Loss')\n",
    "plt.title('Training and Validation Loss')\n",
    "plt.xlabel('Epoch')\n",
    "plt.ylabel('Loss')\n",
    "plt.legend()\n",
    "\n",
    "plt.show()"
   ]
  },
  {
   "cell_type": "markdown",
   "metadata": {},
   "source": [
    "## Evaluation of the Classifier Success with Cross-Validation"
   ]
  },
  {
   "cell_type": "code",
   "execution_count": 102,
   "metadata": {},
   "outputs": [],
   "source": [
    "def create_model5():\n",
    "\n",
    "    num__of_digits = 10\n",
    "\n",
    "    # We add Dropout layers to prevent overfitting.\n",
    "\n",
    "    model5 = Sequential()\n",
    "    model5.add(Dense(200, input_dim=64, activation='relu', name='Hidden_Layer_1'))\n",
    "    model5.add(Dropout(0.3))\n",
    "    model5.add(Dense(100, activation='relu', name='Hidden_Layer_2'))\n",
    "    model5.add(Dropout(0.3))\n",
    "    model5.add(Dense(100, activation='relu', name='Hidden_Layer_3'))\n",
    "    model5.add(Dropout(0.3))\n",
    "    model5.add(Dense(200, activation='relu', name='Hidden_Layer_4'))\n",
    "    model5.add(Dropout(0.3))\n",
    "    model5.add(Dense(100, activation='relu', name='Hidden_Layer_5'))\n",
    "    model5.add(Dense(num__of_digits, activation='softmax', name='Output_Layer'))\n",
    "\n",
    "    # Input Layer - 5 Hidden Layer - Output Layer\n",
    "    \n",
    "    # Defining learning rate\n",
    "    learning_rate = 0.01\n",
    "\n",
    "    # We use Adam optimizer for Model 5.\n",
    "    adam = optimizers.Adam(lr=learning_rate)\n",
    "\n",
    "    model5.compile(optimizer='adam',\n",
    "                  loss='categorical_crossentropy',\n",
    "                  metrics=['accuracy'])\n",
    "    \n",
    "    return model5"
   ]
  },
  {
   "cell_type": "code",
   "execution_count": 103,
   "metadata": {},
   "outputs": [
    {
     "name": "stderr",
     "output_type": "stream",
     "text": [
      "[Parallel(n_jobs=1)]: Using backend SequentialBackend with 1 concurrent workers.\n"
     ]
    },
    {
     "name": "stdout",
     "output_type": "stream",
     "text": [
      "[CV]  ................................................................\n",
      "Epoch 1/25\n",
      "86/86 [==============================] - 0s 1ms/step - loss: 2.1302 - accuracy: 0.2160\n",
      "Epoch 2/25\n",
      "86/86 [==============================] - 0s 986us/step - loss: 0.8323 - accuracy: 0.7183\n",
      "Epoch 3/25\n",
      "86/86 [==============================] - 0s 986us/step - loss: 0.3808 - accuracy: 0.8831\n",
      "Epoch 4/25\n",
      "86/86 [==============================] - 0s 986us/step - loss: 0.2927 - accuracy: 0.9079\n",
      "Epoch 5/25\n",
      "86/86 [==============================] - 0s 997us/step - loss: 0.2351 - accuracy: 0.9271\n",
      "Epoch 6/25\n",
      "86/86 [==============================] - 0s 986us/step - loss: 0.1983 - accuracy: 0.9389\n",
      "Epoch 7/25\n",
      "86/86 [==============================] - 0s 997us/step - loss: 0.1682 - accuracy: 0.9545\n",
      "Epoch 8/25\n",
      "86/86 [==============================] - 0s 986us/step - loss: 0.1679 - accuracy: 0.9503\n",
      "Epoch 9/25\n",
      "86/86 [==============================] - 0s 1ms/step - loss: 0.1277 - accuracy: 0.9589\n",
      "Epoch 10/25\n",
      "86/86 [==============================] - 0s 986us/step - loss: 0.1122 - accuracy: 0.9716\n",
      "Epoch 11/25\n",
      "86/86 [==============================] - 0s 986us/step - loss: 0.1176 - accuracy: 0.9646\n",
      "Epoch 12/25\n",
      "86/86 [==============================] - 0s 986us/step - loss: 0.1058 - accuracy: 0.9678\n",
      "Epoch 13/25\n",
      "86/86 [==============================] - 0s 974us/step - loss: 0.1018 - accuracy: 0.9716\n",
      "Epoch 14/25\n",
      "86/86 [==============================] - 0s 986us/step - loss: 0.0744 - accuracy: 0.9770\n",
      "Epoch 15/25\n",
      "86/86 [==============================] - 0s 997us/step - loss: 0.0761 - accuracy: 0.9736\n",
      "Epoch 16/25\n",
      "86/86 [==============================] - 0s 997us/step - loss: 0.0754 - accuracy: 0.9788\n",
      "Epoch 17/25\n",
      "86/86 [==============================] - 0s 997us/step - loss: 0.0850 - accuracy: 0.9752\n",
      "Epoch 18/25\n",
      "86/86 [==============================] - 0s 997us/step - loss: 0.0513 - accuracy: 0.9861\n",
      "Epoch 19/25\n",
      "86/86 [==============================] - 0s 997us/step - loss: 0.0555 - accuracy: 0.9829\n",
      "Epoch 20/25\n",
      "86/86 [==============================] - 0s 1ms/step - loss: 0.0484 - accuracy: 0.9846\n",
      "Epoch 21/25\n",
      "86/86 [==============================] - 0s 1ms/step - loss: 0.0453 - accuracy: 0.9853\n",
      "Epoch 22/25\n",
      "86/86 [==============================] - 0s 1ms/step - loss: 0.0666 - accuracy: 0.9813\n",
      "Epoch 23/25\n",
      "86/86 [==============================] - 0s 997us/step - loss: 0.0595 - accuracy: 0.9778\n",
      "Epoch 24/25\n",
      "86/86 [==============================] - 0s 997us/step - loss: 0.0582 - accuracy: 0.9857\n",
      "Epoch 25/25\n",
      "86/86 [==============================] - 0s 997us/step - loss: 0.0544 - accuracy: 0.9841\n",
      "10/10 [==============================] - 0s 664us/step - loss: 0.1308 - accuracy: 0.9706\n",
      "[CV] ................................................. , total=   2.8s\n",
      "[CV]  ................................................................\n",
      "Epoch 1/25\n"
     ]
    },
    {
     "name": "stderr",
     "output_type": "stream",
     "text": [
      "[Parallel(n_jobs=1)]: Done   1 out of   1 | elapsed:    2.7s remaining:    0.0s\n"
     ]
    },
    {
     "name": "stdout",
     "output_type": "stream",
     "text": [
      "86/86 [==============================] - 0s 1ms/step - loss: 2.1505 - accuracy: 0.2031\n",
      "Epoch 2/25\n",
      "86/86 [==============================] - 0s 962us/step - loss: 0.7607 - accuracy: 0.7450\n",
      "Epoch 3/25\n",
      "86/86 [==============================] - 0s 974us/step - loss: 0.4484 - accuracy: 0.8519\n",
      "Epoch 4/25\n",
      "86/86 [==============================] - 0s 986us/step - loss: 0.3409 - accuracy: 0.8941\n",
      "Epoch 5/25\n",
      "86/86 [==============================] - 0s 986us/step - loss: 0.2572 - accuracy: 0.9253\n",
      "Epoch 6/25\n",
      "86/86 [==============================] - 0s 974us/step - loss: 0.2095 - accuracy: 0.9364\n",
      "Epoch 7/25\n",
      "86/86 [==============================] - 0s 986us/step - loss: 0.2121 - accuracy: 0.9323\n",
      "Epoch 8/25\n",
      "86/86 [==============================] - 0s 1ms/step - loss: 0.1712 - accuracy: 0.9451\n",
      "Epoch 9/25\n",
      "86/86 [==============================] - 0s 1ms/step - loss: 0.1391 - accuracy: 0.9585\n",
      "Epoch 10/25\n",
      "86/86 [==============================] - 0s 1ms/step - loss: 0.1039 - accuracy: 0.9692\n",
      "Epoch 11/25\n",
      "86/86 [==============================] - 0s 1ms/step - loss: 0.1350 - accuracy: 0.9680\n",
      "Epoch 12/25\n",
      "86/86 [==============================] - 0s 986us/step - loss: 0.1059 - accuracy: 0.9693\n",
      "Epoch 13/25\n",
      "86/86 [==============================] - 0s 986us/step - loss: 0.1055 - accuracy: 0.9652\n",
      "Epoch 14/25\n",
      "86/86 [==============================] - 0s 1ms/step - loss: 0.0734 - accuracy: 0.9757\n",
      "Epoch 15/25\n",
      "86/86 [==============================] - 0s 986us/step - loss: 0.0778 - accuracy: 0.9743\n",
      "Epoch 16/25\n",
      "86/86 [==============================] - 0s 1ms/step - loss: 0.0983 - accuracy: 0.9710\n",
      "Epoch 17/25\n",
      "86/86 [==============================] - 0s 1ms/step - loss: 0.0547 - accuracy: 0.9854\n",
      "Epoch 18/25\n",
      "86/86 [==============================] - 0s 974us/step - loss: 0.0886 - accuracy: 0.9734\n",
      "Epoch 19/25\n",
      "86/86 [==============================] - 0s 974us/step - loss: 0.0565 - accuracy: 0.9799\n",
      "Epoch 20/25\n",
      "86/86 [==============================] - 0s 974us/step - loss: 0.0555 - accuracy: 0.9786\n",
      "Epoch 21/25\n",
      "86/86 [==============================] - 0s 986us/step - loss: 0.0607 - accuracy: 0.9778\n",
      "Epoch 22/25\n",
      "86/86 [==============================] - 0s 986us/step - loss: 0.0494 - accuracy: 0.9862\n",
      "Epoch 23/25\n",
      "86/86 [==============================] - 0s 974us/step - loss: 0.0633 - accuracy: 0.9768\n",
      "Epoch 24/25\n",
      "86/86 [==============================] - 0s 974us/step - loss: 0.0551 - accuracy: 0.9834\n",
      "Epoch 25/25\n",
      "86/86 [==============================] - 0s 974us/step - loss: 0.0606 - accuracy: 0.9822\n",
      "10/10 [==============================] - 0s 887us/step - loss: 0.0414 - accuracy: 0.9837\n",
      "[CV] ................................................. , total=   2.8s\n",
      "[CV]  ................................................................\n",
      "Epoch 1/25\n",
      "86/86 [==============================] - 0s 1ms/step - loss: 2.1159 - accuracy: 0.2252\n",
      "Epoch 2/25\n",
      "86/86 [==============================] - 0s 974us/step - loss: 0.7846 - accuracy: 0.7443\n",
      "Epoch 3/25\n",
      "86/86 [==============================] - 0s 997us/step - loss: 0.4512 - accuracy: 0.8517\n",
      "Epoch 4/25\n",
      "86/86 [==============================] - 0s 974us/step - loss: 0.2862 - accuracy: 0.9049\n",
      "Epoch 5/25\n",
      "86/86 [==============================] - 0s 962us/step - loss: 0.2433 - accuracy: 0.9289\n",
      "Epoch 6/25\n",
      "86/86 [==============================] - 0s 962us/step - loss: 0.1965 - accuracy: 0.9412\n",
      "Epoch 7/25\n",
      "86/86 [==============================] - 0s 974us/step - loss: 0.1681 - accuracy: 0.9490\n",
      "Epoch 8/25\n",
      "86/86 [==============================] - 0s 950us/step - loss: 0.1586 - accuracy: 0.9548\n",
      "Epoch 9/25\n",
      "86/86 [==============================] - 0s 962us/step - loss: 0.1239 - accuracy: 0.9581\n",
      "Epoch 10/25\n",
      "86/86 [==============================] - 0s 997us/step - loss: 0.1083 - accuracy: 0.9675\n",
      "Epoch 11/25\n",
      "86/86 [==============================] - 0s 974us/step - loss: 0.1136 - accuracy: 0.9673\n",
      "Epoch 12/25\n",
      "86/86 [==============================] - 0s 974us/step - loss: 0.0850 - accuracy: 0.9787\n",
      "Epoch 13/25\n",
      "86/86 [==============================] - 0s 997us/step - loss: 0.1012 - accuracy: 0.9692\n",
      "Epoch 14/25\n",
      "86/86 [==============================] - 0s 986us/step - loss: 0.0933 - accuracy: 0.9750\n",
      "Epoch 15/25\n",
      "86/86 [==============================] - 0s 1ms/step - loss: 0.0727 - accuracy: 0.9755\n",
      "Epoch 16/25\n",
      "86/86 [==============================] - 0s 997us/step - loss: 0.0755 - accuracy: 0.9727\n",
      "Epoch 17/25\n",
      "86/86 [==============================] - 0s 997us/step - loss: 0.0688 - accuracy: 0.9792\n",
      "Epoch 18/25\n",
      "86/86 [==============================] - 0s 986us/step - loss: 0.0616 - accuracy: 0.9811\n",
      "Epoch 19/25\n",
      "86/86 [==============================] - 0s 1ms/step - loss: 0.0727 - accuracy: 0.9786\n",
      "Epoch 20/25\n",
      "86/86 [==============================] - 0s 997us/step - loss: 0.0747 - accuracy: 0.9835\n",
      "Epoch 21/25\n",
      "86/86 [==============================] - 0s 997us/step - loss: 0.0740 - accuracy: 0.9821\n",
      "Epoch 22/25\n",
      "86/86 [==============================] - 0s 974us/step - loss: 0.0572 - accuracy: 0.9798\n",
      "Epoch 23/25\n",
      "86/86 [==============================] - 0s 974us/step - loss: 0.0461 - accuracy: 0.9801\n",
      "Epoch 24/25\n",
      "86/86 [==============================] - 0s 986us/step - loss: 0.0329 - accuracy: 0.9908\n",
      "Epoch 25/25\n",
      "86/86 [==============================] - 0s 997us/step - loss: 0.0404 - accuracy: 0.9856\n",
      "10/10 [==============================] - 0s 665us/step - loss: 0.1197 - accuracy: 0.9739\n",
      "[CV] ................................................. , total=   2.8s\n",
      "[CV]  ................................................................\n",
      "Epoch 1/25\n",
      "86/86 [==============================] - 1s 1ms/step - loss: 2.1446 - accuracy: 0.2096\n",
      "Epoch 2/25\n",
      "86/86 [==============================] - 0s 997us/step - loss: 0.7249 - accuracy: 0.7628\n",
      "Epoch 3/25\n",
      "86/86 [==============================] - 0s 997us/step - loss: 0.4078 - accuracy: 0.8752\n",
      "Epoch 4/25\n",
      "86/86 [==============================] - 0s 1ms/step - loss: 0.2739 - accuracy: 0.9211\n",
      "Epoch 5/25\n",
      "86/86 [==============================] - 0s 986us/step - loss: 0.2178 - accuracy: 0.9291\n",
      "Epoch 6/25\n",
      "86/86 [==============================] - 0s 974us/step - loss: 0.2065 - accuracy: 0.9405\n",
      "Epoch 7/25\n",
      "86/86 [==============================] - 0s 986us/step - loss: 0.1859 - accuracy: 0.9428\n",
      "Epoch 8/25\n",
      "86/86 [==============================] - 0s 986us/step - loss: 0.1578 - accuracy: 0.9553\n",
      "Epoch 9/25\n",
      "86/86 [==============================] - 0s 962us/step - loss: 0.1179 - accuracy: 0.9670\n",
      "Epoch 10/25\n",
      "86/86 [==============================] - 0s 997us/step - loss: 0.1514 - accuracy: 0.9469\n",
      "Epoch 11/25\n",
      "86/86 [==============================] - 0s 986us/step - loss: 0.1270 - accuracy: 0.9650\n",
      "Epoch 12/25\n",
      "86/86 [==============================] - 0s 1ms/step - loss: 0.1136 - accuracy: 0.9680\n",
      "Epoch 13/25\n",
      "86/86 [==============================] - 0s 1ms/step - loss: 0.0908 - accuracy: 0.9695\n",
      "Epoch 14/25\n",
      "86/86 [==============================] - 0s 974us/step - loss: 0.1156 - accuracy: 0.9695\n",
      "Epoch 15/25\n",
      "86/86 [==============================] - 0s 986us/step - loss: 0.1031 - accuracy: 0.9709\n",
      "Epoch 16/25\n",
      "86/86 [==============================] - 0s 986us/step - loss: 0.0814 - accuracy: 0.9722\n",
      "Epoch 17/25\n",
      "86/86 [==============================] - 0s 974us/step - loss: 0.0960 - accuracy: 0.9721\n",
      "Epoch 18/25\n",
      "86/86 [==============================] - 0s 1ms/step - loss: 0.0721 - accuracy: 0.9819\n",
      "Epoch 19/25\n",
      "86/86 [==============================] - 0s 1ms/step - loss: 0.0727 - accuracy: 0.9773\n",
      "Epoch 20/25\n",
      "86/86 [==============================] - 0s 1ms/step - loss: 0.0714 - accuracy: 0.9780\n",
      "Epoch 21/25\n",
      "86/86 [==============================] - 0s 986us/step - loss: 0.0634 - accuracy: 0.9828\n",
      "Epoch 22/25\n",
      "86/86 [==============================] - 0s 974us/step - loss: 0.0545 - accuracy: 0.9825\n",
      "Epoch 23/25\n",
      "86/86 [==============================] - 0s 974us/step - loss: 0.0530 - accuracy: 0.9820\n",
      "Epoch 24/25\n",
      "86/86 [==============================] - 0s 974us/step - loss: 0.0494 - accuracy: 0.9879\n",
      "Epoch 25/25\n",
      "86/86 [==============================] - 0s 974us/step - loss: 0.0524 - accuracy: 0.9870\n",
      "10/10 [==============================] - 0s 889us/step - loss: 0.1363 - accuracy: 0.9771\n",
      "[CV] ................................................. , total=   2.9s\n",
      "[CV]  ................................................................\n"
     ]
    },
    {
     "name": "stdout",
     "output_type": "stream",
     "text": [
      "Epoch 1/25\n",
      "86/86 [==============================] - 0s 974us/step - loss: 2.0979 - accuracy: 0.2466\n",
      "Epoch 2/25\n",
      "86/86 [==============================] - 0s 950us/step - loss: 0.7935 - accuracy: 0.7190\n",
      "Epoch 3/25\n",
      "86/86 [==============================] - 0s 962us/step - loss: 0.4369 - accuracy: 0.8561\n",
      "Epoch 4/25\n",
      "86/86 [==============================] - 0s 939us/step - loss: 0.2924 - accuracy: 0.9143\n",
      "Epoch 5/25\n",
      "86/86 [==============================] - 0s 939us/step - loss: 0.2041 - accuracy: 0.9337\n",
      "Epoch 6/25\n",
      "86/86 [==============================] - 0s 939us/step - loss: 0.1834 - accuracy: 0.9362\n",
      "Epoch 7/25\n",
      "86/86 [==============================] - 0s 939us/step - loss: 0.1627 - accuracy: 0.9470\n",
      "Epoch 8/25\n",
      "86/86 [==============================] - 0s 939us/step - loss: 0.1260 - accuracy: 0.9594\n",
      "Epoch 9/25\n",
      "86/86 [==============================] - 0s 927us/step - loss: 0.1514 - accuracy: 0.9534\n",
      "Epoch 10/25\n",
      "86/86 [==============================] - 0s 939us/step - loss: 0.0954 - accuracy: 0.9706\n",
      "Epoch 11/25\n",
      "86/86 [==============================] - 0s 950us/step - loss: 0.1136 - accuracy: 0.9667\n",
      "Epoch 12/25\n",
      "86/86 [==============================] - 0s 962us/step - loss: 0.0819 - accuracy: 0.9748\n",
      "Epoch 13/25\n",
      "86/86 [==============================] - 0s 962us/step - loss: 0.0987 - accuracy: 0.9685\n",
      "Epoch 14/25\n",
      "86/86 [==============================] - 0s 950us/step - loss: 0.0794 - accuracy: 0.9743\n",
      "Epoch 15/25\n",
      "86/86 [==============================] - 0s 962us/step - loss: 0.0846 - accuracy: 0.9736\n",
      "Epoch 16/25\n",
      "86/86 [==============================] - 0s 974us/step - loss: 0.0935 - accuracy: 0.9687\n",
      "Epoch 17/25\n",
      "86/86 [==============================] - 0s 974us/step - loss: 0.0980 - accuracy: 0.9748\n",
      "Epoch 18/25\n",
      "86/86 [==============================] - 0s 950us/step - loss: 0.0552 - accuracy: 0.9823\n",
      "Epoch 19/25\n",
      "86/86 [==============================] - 0s 939us/step - loss: 0.0615 - accuracy: 0.9853\n",
      "Epoch 20/25\n",
      "86/86 [==============================] - 0s 939us/step - loss: 0.0380 - accuracy: 0.9898\n",
      "Epoch 21/25\n",
      "86/86 [==============================] - 0s 939us/step - loss: 0.0601 - accuracy: 0.9824\n",
      "Epoch 22/25\n",
      "86/86 [==============================] - 0s 950us/step - loss: 0.0530 - accuracy: 0.9856\n",
      "Epoch 23/25\n",
      "86/86 [==============================] - 0s 974us/step - loss: 0.0552 - accuracy: 0.9819\n",
      "Epoch 24/25\n",
      "86/86 [==============================] - 0s 986us/step - loss: 0.0618 - accuracy: 0.9805\n",
      "Epoch 25/25\n",
      "86/86 [==============================] - 0s 962us/step - loss: 0.0355 - accuracy: 0.9869\n",
      "10/10 [==============================] - 0s 776us/step - loss: 0.1604 - accuracy: 0.9673\n",
      "[CV] ................................................. , total=   2.7s\n",
      "[CV]  ................................................................\n",
      "Epoch 1/25\n",
      "86/86 [==============================] - 0s 962us/step - loss: 2.0666 - accuracy: 0.2386\n",
      "Epoch 2/25\n",
      "86/86 [==============================] - 0s 927us/step - loss: 0.7289 - accuracy: 0.7581\n",
      "Epoch 3/25\n",
      "86/86 [==============================] - 0s 927us/step - loss: 0.4299 - accuracy: 0.8663\n",
      "Epoch 4/25\n",
      "86/86 [==============================] - 0s 927us/step - loss: 0.2815 - accuracy: 0.9178\n",
      "Epoch 5/25\n",
      "86/86 [==============================] - 0s 962us/step - loss: 0.2515 - accuracy: 0.9217\n",
      "Epoch 6/25\n",
      "86/86 [==============================] - 0s 986us/step - loss: 0.1989 - accuracy: 0.9370\n",
      "Epoch 7/25\n",
      "86/86 [==============================] - 0s 974us/step - loss: 0.1463 - accuracy: 0.9564\n",
      "Epoch 8/25\n",
      "86/86 [==============================] - 0s 974us/step - loss: 0.1764 - accuracy: 0.9517\n",
      "Epoch 9/25\n",
      "86/86 [==============================] - 0s 950us/step - loss: 0.1386 - accuracy: 0.9580\n",
      "Epoch 10/25\n",
      "86/86 [==============================] - 0s 1ms/step - loss: 0.1023 - accuracy: 0.9696\n",
      "Epoch 11/25\n",
      "86/86 [==============================] - 0s 1ms/step - loss: 0.1094 - accuracy: 0.9688\n",
      "Epoch 12/25\n",
      "86/86 [==============================] - 0s 962us/step - loss: 0.1010 - accuracy: 0.9724\n",
      "Epoch 13/25\n",
      "86/86 [==============================] - 0s 950us/step - loss: 0.1016 - accuracy: 0.9724\n",
      "Epoch 14/25\n",
      "86/86 [==============================] - 0s 927us/step - loss: 0.1007 - accuracy: 0.9677\n",
      "Epoch 15/25\n",
      "86/86 [==============================] - 0s 915us/step - loss: 0.0935 - accuracy: 0.9691\n",
      "Epoch 16/25\n",
      "86/86 [==============================] - 0s 939us/step - loss: 0.0669 - accuracy: 0.9809\n",
      "Epoch 17/25\n",
      "86/86 [==============================] - 0s 939us/step - loss: 0.0635 - accuracy: 0.9808\n",
      "Epoch 18/25\n",
      "86/86 [==============================] - 0s 939us/step - loss: 0.0968 - accuracy: 0.9709\n",
      "Epoch 19/25\n",
      "86/86 [==============================] - 0s 962us/step - loss: 0.0638 - accuracy: 0.9797\n",
      "Epoch 20/25\n",
      "86/86 [==============================] - 0s 974us/step - loss: 0.0538 - accuracy: 0.9854\n",
      "Epoch 21/25\n",
      "86/86 [==============================] - 0s 974us/step - loss: 0.0646 - accuracy: 0.9773\n",
      "Epoch 22/25\n",
      "86/86 [==============================] - 0s 939us/step - loss: 0.0567 - accuracy: 0.9821\n",
      "Epoch 23/25\n",
      "86/86 [==============================] - 0s 939us/step - loss: 0.0633 - accuracy: 0.9779\n",
      "Epoch 24/25\n",
      "86/86 [==============================] - 0s 927us/step - loss: 0.0675 - accuracy: 0.9783\n",
      "Epoch 25/25\n",
      "86/86 [==============================] - 0s 927us/step - loss: 0.0505 - accuracy: 0.9839\n",
      "10/10 [==============================] - 0s 888us/step - loss: 0.0745 - accuracy: 0.9771\n",
      "[CV] ................................................. , total=   2.7s\n",
      "[CV]  ................................................................\n",
      "Epoch 1/25\n",
      "86/86 [==============================] - 0s 997us/step - loss: 2.1049 - accuracy: 0.2312\n",
      "Epoch 2/25\n",
      "86/86 [==============================] - 0s 950us/step - loss: 0.7739 - accuracy: 0.7537\n",
      "Epoch 3/25\n",
      "86/86 [==============================] - 0s 997us/step - loss: 0.3936 - accuracy: 0.8779\n",
      "Epoch 4/25\n",
      "86/86 [==============================] - 0s 1ms/step - loss: 0.3156 - accuracy: 0.9021\n",
      "Epoch 5/25\n",
      "86/86 [==============================] - 0s 962us/step - loss: 0.2320 - accuracy: 0.9383\n",
      "Epoch 6/25\n",
      "86/86 [==============================] - 0s 950us/step - loss: 0.1923 - accuracy: 0.9407\n",
      "Epoch 7/25\n",
      "86/86 [==============================] - 0s 950us/step - loss: 0.1818 - accuracy: 0.9391\n",
      "Epoch 8/25\n",
      "86/86 [==============================] - 0s 950us/step - loss: 0.1534 - accuracy: 0.9541\n",
      "Epoch 9/25\n",
      "86/86 [==============================] - 0s 939us/step - loss: 0.1379 - accuracy: 0.9623\n",
      "Epoch 10/25\n",
      "86/86 [==============================] - 0s 974us/step - loss: 0.1247 - accuracy: 0.9596\n",
      "Epoch 11/25\n",
      "86/86 [==============================] - 0s 986us/step - loss: 0.1179 - accuracy: 0.9644\n",
      "Epoch 12/25\n",
      "86/86 [==============================] - 0s 974us/step - loss: 0.1052 - accuracy: 0.9660\n",
      "Epoch 13/25\n",
      "86/86 [==============================] - 0s 939us/step - loss: 0.1043 - accuracy: 0.9681\n",
      "Epoch 14/25\n",
      "86/86 [==============================] - 0s 939us/step - loss: 0.0778 - accuracy: 0.9809\n",
      "Epoch 15/25\n",
      "86/86 [==============================] - 0s 927us/step - loss: 0.0842 - accuracy: 0.9756\n",
      "Epoch 16/25\n",
      "86/86 [==============================] - 0s 939us/step - loss: 0.0635 - accuracy: 0.9808\n",
      "Epoch 17/25\n",
      "86/86 [==============================] - 0s 962us/step - loss: 0.0811 - accuracy: 0.9791\n",
      "Epoch 18/25\n",
      "86/86 [==============================] - 0s 962us/step - loss: 0.0824 - accuracy: 0.9765\n",
      "Epoch 19/25\n",
      "86/86 [==============================] - 0s 962us/step - loss: 0.0670 - accuracy: 0.9794\n",
      "Epoch 20/25\n",
      "86/86 [==============================] - 0s 939us/step - loss: 0.0554 - accuracy: 0.9850\n",
      "Epoch 21/25\n",
      "86/86 [==============================] - 0s 939us/step - loss: 0.0634 - accuracy: 0.9823\n",
      "Epoch 22/25\n",
      "86/86 [==============================] - 0s 986us/step - loss: 0.0701 - accuracy: 0.9747\n",
      "Epoch 23/25\n",
      "86/86 [==============================] - 0s 986us/step - loss: 0.0480 - accuracy: 0.9858\n",
      "Epoch 24/25\n",
      "86/86 [==============================] - 0s 962us/step - loss: 0.0466 - accuracy: 0.9871\n",
      "Epoch 25/25\n",
      "86/86 [==============================] - 0s 939us/step - loss: 0.0737 - accuracy: 0.9785\n",
      "10/10 [==============================] - 0s 775us/step - loss: 0.0527 - accuracy: 0.9837\n",
      "[CV] ................................................. , total=   2.9s\n",
      "[CV]  ................................................................\n",
      "Epoch 1/25\n"
     ]
    },
    {
     "name": "stdout",
     "output_type": "stream",
     "text": [
      "86/86 [==============================] - 0s 1ms/step - loss: 2.1035 - accuracy: 0.2321\n",
      "Epoch 2/25\n",
      "86/86 [==============================] - 0s 1ms/step - loss: 0.7493 - accuracy: 0.7430\n",
      "Epoch 3/25\n",
      "86/86 [==============================] - 0s 1ms/step - loss: 0.3548 - accuracy: 0.8861\n",
      "Epoch 4/25\n",
      "86/86 [==============================] - 0s 1ms/step - loss: 0.3046 - accuracy: 0.9054\n",
      "Epoch 5/25\n",
      "86/86 [==============================] - 0s 997us/step - loss: 0.2400 - accuracy: 0.9303\n",
      "Epoch 6/25\n",
      "86/86 [==============================] - 0s 997us/step - loss: 0.1787 - accuracy: 0.9443\n",
      "Epoch 7/25\n",
      "86/86 [==============================] - 0s 997us/step - loss: 0.1661 - accuracy: 0.9521\n",
      "Epoch 8/25\n",
      "86/86 [==============================] - 0s 1ms/step - loss: 0.1215 - accuracy: 0.9638\n",
      "Epoch 9/25\n",
      "86/86 [==============================] - 0s 1ms/step - loss: 0.1446 - accuracy: 0.9538\n",
      "Epoch 10/25\n",
      "86/86 [==============================] - 0s 1ms/step - loss: 0.1335 - accuracy: 0.9650\n",
      "Epoch 11/25\n",
      "86/86 [==============================] - 0s 997us/step - loss: 0.1058 - accuracy: 0.9698\n",
      "Epoch 12/25\n",
      "86/86 [==============================] - 0s 997us/step - loss: 0.1182 - accuracy: 0.9646\n",
      "Epoch 13/25\n",
      "86/86 [==============================] - 0s 997us/step - loss: 0.1128 - accuracy: 0.9663\n",
      "Epoch 14/25\n",
      "86/86 [==============================] - 0s 997us/step - loss: 0.1022 - accuracy: 0.9647\n",
      "Epoch 15/25\n",
      "86/86 [==============================] - 0s 986us/step - loss: 0.0921 - accuracy: 0.9721\n",
      "Epoch 16/25\n",
      "86/86 [==============================] - 0s 1ms/step - loss: 0.0905 - accuracy: 0.9755\n",
      "Epoch 17/25\n",
      "86/86 [==============================] - 0s 997us/step - loss: 0.0910 - accuracy: 0.9748\n",
      "Epoch 18/25\n",
      "86/86 [==============================] - 0s 997us/step - loss: 0.0755 - accuracy: 0.9778\n",
      "Epoch 19/25\n",
      "86/86 [==============================] - 0s 986us/step - loss: 0.0576 - accuracy: 0.9847\n",
      "Epoch 20/25\n",
      "86/86 [==============================] - 0s 986us/step - loss: 0.0804 - accuracy: 0.9774\n",
      "Epoch 21/25\n",
      "86/86 [==============================] - 0s 997us/step - loss: 0.0693 - accuracy: 0.9791\n",
      "Epoch 22/25\n",
      "86/86 [==============================] - 0s 1ms/step - loss: 0.0722 - accuracy: 0.9801\n",
      "Epoch 23/25\n",
      "86/86 [==============================] - 0s 1ms/step - loss: 0.0419 - accuracy: 0.9871\n",
      "Epoch 24/25\n",
      "86/86 [==============================] - 0s 1ms/step - loss: 0.0384 - accuracy: 0.9893\n",
      "Epoch 25/25\n",
      "86/86 [==============================] - 0s 1ms/step - loss: 0.0346 - accuracy: 0.9895\n",
      "10/10 [==============================] - 0s 888us/step - loss: 0.0975 - accuracy: 0.9771\n",
      "[CV] ................................................. , total=   2.8s\n",
      "[CV]  ................................................................\n",
      "Epoch 1/25\n",
      "87/87 [==============================] - 1s 1ms/step - loss: 2.1052 - accuracy: 0.2396\n",
      "Epoch 2/25\n",
      "87/87 [==============================] - 0s 1ms/step - loss: 0.6916 - accuracy: 0.7700\n",
      "Epoch 3/25\n",
      "87/87 [==============================] - 0s 1ms/step - loss: 0.3874 - accuracy: 0.8772\n",
      "Epoch 4/25\n",
      "87/87 [==============================] - 0s 1ms/step - loss: 0.2688 - accuracy: 0.9156\n",
      "Epoch 5/25\n",
      "87/87 [==============================] - 0s 1ms/step - loss: 0.2400 - accuracy: 0.9279\n",
      "Epoch 6/25\n",
      "87/87 [==============================] - 0s 1ms/step - loss: 0.2066 - accuracy: 0.9385\n",
      "Epoch 7/25\n",
      "87/87 [==============================] - 0s 1ms/step - loss: 0.1983 - accuracy: 0.9415\n",
      "Epoch 8/25\n",
      "87/87 [==============================] - 0s 1ms/step - loss: 0.1815 - accuracy: 0.9398\n",
      "Epoch 9/25\n",
      "87/87 [==============================] - 0s 1ms/step - loss: 0.1408 - accuracy: 0.9563\n",
      "Epoch 10/25\n",
      "87/87 [==============================] - 0s 1ms/step - loss: 0.1511 - accuracy: 0.9512\n",
      "Epoch 11/25\n",
      "87/87 [==============================] - 0s 1ms/step - loss: 0.1216 - accuracy: 0.9653\n",
      "Epoch 12/25\n",
      "87/87 [==============================] - 0s 1ms/step - loss: 0.1146 - accuracy: 0.9633\n",
      "Epoch 13/25\n",
      "87/87 [==============================] - 0s 1ms/step - loss: 0.1130 - accuracy: 0.9638\n",
      "Epoch 14/25\n",
      "87/87 [==============================] - 0s 1ms/step - loss: 0.1035 - accuracy: 0.9670\n",
      "Epoch 15/25\n",
      "87/87 [==============================] - 0s 1ms/step - loss: 0.1054 - accuracy: 0.9623\n",
      "Epoch 16/25\n",
      "87/87 [==============================] - 0s 1ms/step - loss: 0.0684 - accuracy: 0.9808\n",
      "Epoch 17/25\n",
      "87/87 [==============================] - 0s 1ms/step - loss: 0.0849 - accuracy: 0.9748\n",
      "Epoch 18/25\n",
      "87/87 [==============================] - 0s 1ms/step - loss: 0.0851 - accuracy: 0.9728\n",
      "Epoch 19/25\n",
      "87/87 [==============================] - 0s 1ms/step - loss: 0.0810 - accuracy: 0.9731\n",
      "Epoch 20/25\n",
      "87/87 [==============================] - 0s 1ms/step - loss: 0.0618 - accuracy: 0.9791\n",
      "Epoch 21/25\n",
      "87/87 [==============================] - 0s 1ms/step - loss: 0.0690 - accuracy: 0.9792\n",
      "Epoch 22/25\n",
      "87/87 [==============================] - 0s 1ms/step - loss: 0.0481 - accuracy: 0.9837\n",
      "Epoch 23/25\n",
      "87/87 [==============================] - 0s 1ms/step - loss: 0.0594 - accuracy: 0.9822\n",
      "Epoch 24/25\n",
      "87/87 [==============================] - 0s 1ms/step - loss: 0.0595 - accuracy: 0.9825\n",
      "Epoch 25/25\n",
      "87/87 [==============================] - 0s 1ms/step - loss: 0.0465 - accuracy: 0.9868: 0s - loss: 0.0419 - accuracy: 0.\n",
      "10/10 [==============================] - 0s 888us/step - loss: 0.0120 - accuracy: 0.9967\n",
      "[CV] ................................................. , total=   3.6s\n",
      "[CV]  ................................................................\n",
      "Epoch 1/25\n",
      "87/87 [==============================] - 1s 1ms/step - loss: 2.0859 - accuracy: 0.2309\n",
      "Epoch 2/25\n",
      "87/87 [==============================] - 0s 1ms/step - loss: 0.7885 - accuracy: 0.7358\n",
      "Epoch 3/25\n",
      "87/87 [==============================] - 0s 1ms/step - loss: 0.4203 - accuracy: 0.8690\n",
      "Epoch 4/25\n",
      "87/87 [==============================] - 0s 1ms/step - loss: 0.2918 - accuracy: 0.9083\n",
      "Epoch 5/25\n",
      "87/87 [==============================] - ETA: 0s - loss: 0.2270 - accuracy: 0.93 - 0s 1ms/step - loss: 0.2276 - accuracy: 0.9314\n",
      "Epoch 6/25\n",
      "87/87 [==============================] - 0s 1ms/step - loss: 0.1916 - accuracy: 0.9405\n",
      "Epoch 7/25\n",
      "87/87 [==============================] - 0s 1ms/step - loss: 0.1832 - accuracy: 0.9421\n",
      "Epoch 8/25\n",
      "87/87 [==============================] - 0s 1ms/step - loss: 0.1373 - accuracy: 0.9644\n",
      "Epoch 9/25\n",
      "87/87 [==============================] - 0s 1ms/step - loss: 0.1357 - accuracy: 0.9625\n",
      "Epoch 10/25\n",
      "87/87 [==============================] - 0s 1ms/step - loss: 0.1240 - accuracy: 0.9614\n",
      "Epoch 11/25\n",
      "87/87 [==============================] - 0s 1ms/step - loss: 0.2517 - accuracy: 0.9327\n",
      "Epoch 12/25\n",
      "87/87 [==============================] - 0s 1ms/step - loss: 0.0981 - accuracy: 0.9703\n",
      "Epoch 13/25\n",
      "87/87 [==============================] - 0s 1ms/step - loss: 0.0917 - accuracy: 0.9733\n",
      "Epoch 14/25\n",
      "87/87 [==============================] - 0s 1ms/step - loss: 0.0803 - accuracy: 0.9749\n",
      "Epoch 15/25\n",
      "87/87 [==============================] - 0s 1ms/step - loss: 0.0790 - accuracy: 0.9749\n",
      "Epoch 16/25\n",
      "87/87 [==============================] - 0s 1ms/step - loss: 0.0751 - accuracy: 0.9786\n",
      "Epoch 17/25\n",
      "87/87 [==============================] - 0s 1ms/step - loss: 0.0778 - accuracy: 0.9759\n",
      "Epoch 18/25\n",
      "87/87 [==============================] - 0s 1ms/step - loss: 0.0904 - accuracy: 0.9729\n",
      "Epoch 19/25\n",
      "87/87 [==============================] - 0s 1ms/step - loss: 0.0836 - accuracy: 0.9788\n",
      "Epoch 20/25\n",
      "87/87 [==============================] - 0s 1ms/step - loss: 0.0505 - accuracy: 0.9832\n",
      "Epoch 21/25\n",
      "87/87 [==============================] - 0s 1ms/step - loss: 0.0787 - accuracy: 0.9741\n",
      "Epoch 22/25\n",
      "87/87 [==============================] - 0s 1ms/step - loss: 0.0731 - accuracy: 0.9777\n",
      "Epoch 23/25\n",
      "87/87 [==============================] - 0s 1ms/step - loss: 0.0576 - accuracy: 0.9822\n",
      "Epoch 24/25\n",
      "87/87 [==============================] - 0s 1ms/step - loss: 0.0633 - accuracy: 0.9852\n",
      "Epoch 25/25\n",
      "87/87 [==============================] - 0s 1ms/step - loss: 0.0538 - accuracy: 0.9832\n",
      "10/10 [==============================] - 0s 800us/step - loss: 0.0639 - accuracy: 0.9836\n",
      "[CV] ................................................. , total=   3.5s\n"
     ]
    },
    {
     "name": "stderr",
     "output_type": "stream",
     "text": [
      "[Parallel(n_jobs=1)]: Done  10 out of  10 | elapsed:   29.3s finished\n"
     ]
    }
   ],
   "source": [
    "# Defining batch and epoch sizes\n",
    "batch_size = 32\n",
    "epochs = 25\n",
    "\n",
    "classifier = KerasClassifier(build_fn=create_model5, batch_size=batch_size, epochs=epochs)\n",
    "accuracies = cross_val_score(estimator=classifier, X=X_train, y=y_train, cv=10, verbose=2)"
   ]
  },
  {
   "cell_type": "code",
   "execution_count": 104,
   "metadata": {},
   "outputs": [
    {
     "data": {
      "text/plain": [
       "array([0.97058821, 0.9836601 , 0.97385621, 0.97712415, 0.96732026,\n",
       "       0.97712415, 0.9836601 , 0.97712415, 0.99672133, 0.98360658])"
      ]
     },
     "execution_count": 104,
     "metadata": {},
     "output_type": "execute_result"
    }
   ],
   "source": [
    "#Cross Validation Scores\n",
    "accuracies"
   ]
  },
  {
   "cell_type": "code",
   "execution_count": 105,
   "metadata": {},
   "outputs": [
    {
     "name": "stdout",
     "output_type": "stream",
     "text": [
      "Max Cross-validation Accuracy  (10-Fold) :  0.9967213273048401\n",
      "Mean Cross-validation Accuracy (10-Fold) :  0.9790785253047943\n"
     ]
    }
   ],
   "source": [
    "print('Max Cross-validation Accuracy  (10-Fold) : ',max(accuracies))\n",
    "print('Mean Cross-validation Accuracy (10-Fold) : ',accuracies.mean())"
   ]
  },
  {
   "cell_type": "markdown",
   "metadata": {},
   "source": [
    "## Evaluating of the Model on the Test Set"
   ]
  },
  {
   "cell_type": "code",
   "execution_count": 106,
   "metadata": {},
   "outputs": [
    {
     "data": {
      "text/plain": [
       "['loss', 'accuracy']"
      ]
     },
     "execution_count": 106,
     "metadata": {},
     "output_type": "execute_result"
    }
   ],
   "source": [
    "model5.metrics_names"
   ]
  },
  {
   "cell_type": "code",
   "execution_count": 107,
   "metadata": {},
   "outputs": [
    {
     "name": "stdout",
     "output_type": "stream",
     "text": [
      "57/57 [==============================] - 0s 481us/step - loss: 0.1505 - accuracy: 0.9666\n"
     ]
    },
    {
     "data": {
      "text/plain": [
       "[0.15047882497310638, 0.9666110277175903]"
      ]
     },
     "execution_count": 107,
     "metadata": {},
     "output_type": "execute_result"
    }
   ],
   "source": [
    "y_test = dataset_labels_test\n",
    "\n",
    "#One-Hot Encoding with Keras\n",
    "y_test = keras.utils.to_categorical(y_test)\n",
    "\n",
    "model5.evaluate(X_test, y_test)"
   ]
  },
  {
   "cell_type": "code",
   "execution_count": 109,
   "metadata": {},
   "outputs": [],
   "source": [
    "predictions_test = model5.predict_classes(X_test)"
   ]
  },
  {
   "cell_type": "code",
   "execution_count": 110,
   "metadata": {},
   "outputs": [
    {
     "data": {
      "text/plain": [
       "array([0, 1, 2, ..., 8, 9, 8], dtype=int64)"
      ]
     },
     "execution_count": 110,
     "metadata": {},
     "output_type": "execute_result"
    }
   ],
   "source": [
    "predictions_test"
   ]
  },
  {
   "cell_type": "code",
   "execution_count": 111,
   "metadata": {},
   "outputs": [
    {
     "data": {
      "text/plain": [
       "(1797,)"
      ]
     },
     "execution_count": 111,
     "metadata": {},
     "output_type": "execute_result"
    }
   ],
   "source": [
    "predictions_test.shape"
   ]
  },
  {
   "cell_type": "markdown",
   "metadata": {},
   "source": [
    "* ### Classification Report"
   ]
  },
  {
   "cell_type": "code",
   "execution_count": 112,
   "metadata": {},
   "outputs": [
    {
     "name": "stdout",
     "output_type": "stream",
     "text": [
      "              precision    recall  f1-score   support\n",
      "\n",
      "           0       0.99      1.00      1.00       178\n",
      "           1       0.95      0.99      0.97       182\n",
      "           2       0.99      0.98      0.99       177\n",
      "           3       0.99      0.95      0.97       183\n",
      "           4       0.96      0.99      0.98       181\n",
      "           5       0.93      0.98      0.95       182\n",
      "           6       0.99      0.98      0.99       181\n",
      "           7       0.99      0.91      0.95       179\n",
      "           8       0.94      0.93      0.93       174\n",
      "           9       0.93      0.95      0.94       180\n",
      "\n",
      "    accuracy                           0.97      1797\n",
      "   macro avg       0.97      0.97      0.97      1797\n",
      "weighted avg       0.97      0.97      0.97      1797\n",
      "\n"
     ]
    }
   ],
   "source": [
    "print(classification_report(dataset_labels_test, predictions_test))"
   ]
  },
  {
   "cell_type": "markdown",
   "metadata": {},
   "source": [
    "## Confusion Matrix"
   ]
  },
  {
   "cell_type": "code",
   "execution_count": 113,
   "metadata": {},
   "outputs": [
    {
     "data": {
      "image/png": "[encoded data removed]",
      "text/plain": [
       "<Figure size 720x720 with 2 Axes>"
      ]
     },
     "metadata": {
      "needs_background": "light"
     },
     "output_type": "display_data"
    }
   ],
   "source": [
    "from sklearn.metrics import confusion_matrix\n",
    "import seaborn as sns\n",
    "\n",
    "# Creating the confusion matrix\n",
    "conf_matrix = confusion_matrix(dataset_labels_test, predictions_test)\n",
    "f, ax = plt.subplots(figsize = (10,10))\n",
    "\n",
    "sns.heatmap(conf_matrix, annot=True, fmt='.0f', ax = ax, cmap='Blues')\n",
    "plt.xlabel('Predicted Labels')\n",
    "plt.ylabel('True Labels')\n",
    "plt.title('Confusion Matrix')\n",
    "plt.show();"
   ]
  },
  {
   "cell_type": "markdown",
   "metadata": {},
   "source": [
    "## Classification of a New Sample whose Class is Unknown"
   ]
  },
  {
   "cell_type": "code",
   "execution_count": 114,
   "metadata": {},
   "outputs": [],
   "source": [
    "def classification_model(features):\n",
    "    df = pd.DataFrame(data=features)\n",
    "    df = df.iloc[:,:].values.reshape(1,df.shape[0])\n",
    "    \n",
    "    #Normalization\n",
    "    df = df.astype('float32')\n",
    "    df /= 16\n",
    "    \n",
    "    return print('Predicted Value : ', model5.predict_classes(df))"
   ]
  },
  {
   "cell_type": "markdown",
   "metadata": {},
   "source": [
    "Let be the properties entered by the user are as follows."
   ]
  },
  {
   "cell_type": "code",
   "execution_count": 115,
   "metadata": {},
   "outputs": [],
   "source": [
    "new_sample_feature_values = np.array([0,0,5,13,1,0,0,0,0,0,12,13,0,0,0,0,0,0,16,8,0,0,0,0,0,5,16,2,0,0,0,0,0,4,16,8,15,9,1,0,0,4,16,16,12,15,11,0,0,1,15,14,4,14,11,0,0,0,5,14,14,10,1,0])"
   ]
  },
  {
   "cell_type": "code",
   "execution_count": 117,
   "metadata": {},
   "outputs": [
    {
     "name": "stdout",
     "output_type": "stream",
     "text": [
      "Predicted Value :  [6]\n"
     ]
    }
   ],
   "source": [
    "classification_model(new_sample_feature_values)"
   ]
  },
  {
   "cell_type": "code",
   "execution_count": 119,
   "metadata": {},
   "outputs": [
    {
     "data": {
      "text/plain": [
       "Text(0.5, 1.0, 'Digit')"
      ]
     },
     "execution_count": 119,
     "metadata": {},
     "output_type": "execute_result"
    },
    {
     "data": {
      "image/png": "[encoded data removed]",
      "text/plain": [
       "<Figure size 72x72 with 1 Axes>"
      ]
     },
     "metadata": {
      "needs_background": "light"
     },
     "output_type": "display_data"
    }
   ],
   "source": [
    "# Plotting entering sample matrix form\n",
    "\n",
    "digit = new_sample_feature_values.reshape(8,8)\n",
    "\n",
    "plt.figure(figsize=(1, 1))\n",
    "plt.imshow(digit, cmap='gray')\n",
    "plt.title(\"Digit\")"
   ]
  }
 ],
 "metadata": {
  "kernelspec": {
   "display_name": "Python 3",
   "language": "python",
   "name": "python3"
  },
  "language_info": {
   "codemirror_mode": {
    "name": "ipython",
    "version": 3
   },
   "file_extension": ".py",
   "mimetype": "text/x-python",
   "name": "python",
   "nbconvert_exporter": "python",
   "pygments_lexer": "ipython3",
   "version": "3.8.5"
  }
 },
 "nbformat": 4,
 "nbformat_minor": 4
}
